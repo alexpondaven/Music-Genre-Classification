{
 "cells": [
  {
   "cell_type": "markdown",
   "metadata": {},
   "source": [
    "**Training models on Covariance matrix and mean matrix of the MFCC of audio samples**\n",
    "\n",
    "The Covariance matrix and mean matrix was found in the Music Genre Classification Notebook, and will be used to train several models here.\n",
    "\n",
    "Models:\n",
    "- Logistic Regression?\n",
    "- Convolutional Neural Network\n",
    "    - Did not work well using the covariance matrix, so the Mel Spectrogram was used in the \"Models using Mel Spectrogram\" notebook"
   ]
  },
  {
   "cell_type": "code",
   "execution_count": 2,
   "metadata": {},
   "outputs": [],
   "source": [
    "import tensorflow as tf\n",
    "from tensorflow.keras.models import Sequential\n",
    "from tensorflow.keras.layers import Dense, Dropout, Activation, Flatten, Conv2D, MaxPooling2D\n",
    "\n",
    "from sklearn.model_selection import train_test_split, validation_curve, learning_curve\n",
    "from sklearn import preprocessing\n",
    "from sklearn.linear_model import LogisticRegression,LogisticRegressionCV\n",
    "\n",
    "import numpy as np\n",
    "import pandas as pd\n",
    "\n",
    "import matplotlib.pyplot as plt\n",
    "from matplotlib import cm\n",
    "import seaborn as sns\n",
    "import math, random, pickle, os, operator\n",
    "from tempfile import TemporaryFile\n",
    "\n",
    "from scipy.io import wavfile\n",
    "from python_speech_features import mfcc\n",
    "%matplotlib inline"
   ]
  },
  {
   "cell_type": "code",
   "execution_count": 3,
   "metadata": {},
   "outputs": [
    {
     "name": "stdout",
     "output_type": "stream",
     "text": [
      "1 Physical GPUs, 1 Logical GPUs\n"
     ]
    }
   ],
   "source": [
    "## Use GPU support\n",
    "# needed to prevent error from using too much gpu memory\n",
    "gpus = tf.config.experimental.list_physical_devices('GPU')\n",
    "if gpus:\n",
    "  try:\n",
    "    # Currently, memory growth needs to be the same across GPUs\n",
    "    for gpu in gpus:\n",
    "      tf.config.experimental.set_memory_growth(gpu, True)\n",
    "    logical_gpus = tf.config.experimental.list_logical_devices('GPU')\n",
    "    print(len(gpus), \"Physical GPUs,\", len(logical_gpus), \"Logical GPUs\")\n",
    "  except RuntimeError as e:\n",
    "    # Memory growth must be set before GPUs have been initialized\n",
    "    print(e)"
   ]
  },
  {
   "cell_type": "markdown",
   "metadata": {},
   "source": [
    "**Load Data**"
   ]
  },
  {
   "cell_type": "code",
   "execution_count": 4,
   "metadata": {},
   "outputs": [],
   "source": [
    "# loading data - could try converting to pandas Dataframe instead\n",
    "dataset = []\n",
    "train = []\n",
    "test = []\n",
    "with open(\"feat.dat\", 'rb') as f:\n",
    "    while True:\n",
    "        try:\n",
    "            dataset.append(pickle.load(f))\n",
    "        except EOFError:\n",
    "            f.close()\n",
    "            break\n",
    "    \n"
   ]
  },
  {
   "cell_type": "code",
   "execution_count": 24,
   "metadata": {},
   "outputs": [],
   "source": [
    "# convert data to Pandas DataFrame\n",
    "flattened = []\n",
    "for x in dataset:   \n",
    "    flattened.append(list(x[0]) + list(x[1].flatten()) + [x[2]])\n",
    "\n",
    "cols = [['m' +str(i) for i in range(13)]+['c'+str(i) for i in range(169)]+[\"Genre\"]]\n",
    "df = pd.DataFrame(flattened, columns=cols)\n",
    "    "
   ]
  },
  {
   "cell_type": "code",
   "execution_count": 25,
   "metadata": {},
   "outputs": [
    {
     "data": {
      "text/html": [
       "<div>\n",
       "<style scoped>\n",
       "    .dataframe tbody tr th:only-of-type {\n",
       "        vertical-align: middle;\n",
       "    }\n",
       "\n",
       "    .dataframe tbody tr th {\n",
       "        vertical-align: top;\n",
       "    }\n",
       "\n",
       "    .dataframe thead tr th {\n",
       "        text-align: left;\n",
       "    }\n",
       "</style>\n",
       "<table border=\"1\" class=\"dataframe\">\n",
       "  <thead>\n",
       "    <tr>\n",
       "      <th></th>\n",
       "      <th>m0</th>\n",
       "      <th>m1</th>\n",
       "      <th>m2</th>\n",
       "      <th>m3</th>\n",
       "      <th>m4</th>\n",
       "      <th>m5</th>\n",
       "      <th>m6</th>\n",
       "      <th>m7</th>\n",
       "      <th>m8</th>\n",
       "      <th>m9</th>\n",
       "      <th>...</th>\n",
       "      <th>c160</th>\n",
       "      <th>c161</th>\n",
       "      <th>c162</th>\n",
       "      <th>c163</th>\n",
       "      <th>c164</th>\n",
       "      <th>c165</th>\n",
       "      <th>c166</th>\n",
       "      <th>c167</th>\n",
       "      <th>c168</th>\n",
       "      <th>Genre</th>\n",
       "    </tr>\n",
       "  </thead>\n",
       "  <tbody>\n",
       "    <tr>\n",
       "      <th>0</th>\n",
       "      <td>76.502611</td>\n",
       "      <td>-1.961417</td>\n",
       "      <td>-15.774347</td>\n",
       "      <td>3.831419</td>\n",
       "      <td>-10.473326</td>\n",
       "      <td>1.311828</td>\n",
       "      <td>-19.393732</td>\n",
       "      <td>5.286790</td>\n",
       "      <td>-16.631725</td>\n",
       "      <td>5.353444</td>\n",
       "      <td>...</td>\n",
       "      <td>3.786696</td>\n",
       "      <td>-0.021175</td>\n",
       "      <td>-14.523117</td>\n",
       "      <td>-12.995331</td>\n",
       "      <td>-3.843489</td>\n",
       "      <td>-14.831619</td>\n",
       "      <td>2.251195</td>\n",
       "      <td>29.282607</td>\n",
       "      <td>64.650762</td>\n",
       "      <td>1</td>\n",
       "    </tr>\n",
       "    <tr>\n",
       "      <th>1</th>\n",
       "      <td>66.931650</td>\n",
       "      <td>0.718853</td>\n",
       "      <td>-3.267830</td>\n",
       "      <td>4.181200</td>\n",
       "      <td>-8.050941</td>\n",
       "      <td>6.448259</td>\n",
       "      <td>-17.768517</td>\n",
       "      <td>14.091810</td>\n",
       "      <td>-18.332536</td>\n",
       "      <td>3.685560</td>\n",
       "      <td>...</td>\n",
       "      <td>-16.026806</td>\n",
       "      <td>-13.013754</td>\n",
       "      <td>18.476615</td>\n",
       "      <td>11.603178</td>\n",
       "      <td>-3.788941</td>\n",
       "      <td>-17.738734</td>\n",
       "      <td>-8.665845</td>\n",
       "      <td>18.410328</td>\n",
       "      <td>90.762876</td>\n",
       "      <td>1</td>\n",
       "    </tr>\n",
       "    <tr>\n",
       "      <th>2</th>\n",
       "      <td>78.774103</td>\n",
       "      <td>3.039700</td>\n",
       "      <td>-19.024435</td>\n",
       "      <td>-0.983591</td>\n",
       "      <td>-14.699337</td>\n",
       "      <td>7.586562</td>\n",
       "      <td>-12.823053</td>\n",
       "      <td>1.892920</td>\n",
       "      <td>-14.865326</td>\n",
       "      <td>3.595252</td>\n",
       "      <td>...</td>\n",
       "      <td>-18.087720</td>\n",
       "      <td>-6.627783</td>\n",
       "      <td>-2.016122</td>\n",
       "      <td>-12.890326</td>\n",
       "      <td>-3.702126</td>\n",
       "      <td>-3.862404</td>\n",
       "      <td>0.221521</td>\n",
       "      <td>-9.624113</td>\n",
       "      <td>83.777252</td>\n",
       "      <td>1</td>\n",
       "    </tr>\n",
       "    <tr>\n",
       "      <th>3</th>\n",
       "      <td>66.696107</td>\n",
       "      <td>9.211514</td>\n",
       "      <td>-4.532876</td>\n",
       "      <td>5.027148</td>\n",
       "      <td>-8.254011</td>\n",
       "      <td>8.101201</td>\n",
       "      <td>-9.676610</td>\n",
       "      <td>9.824043</td>\n",
       "      <td>-6.735213</td>\n",
       "      <td>10.332956</td>\n",
       "      <td>...</td>\n",
       "      <td>-21.272778</td>\n",
       "      <td>-13.864303</td>\n",
       "      <td>13.764830</td>\n",
       "      <td>4.091590</td>\n",
       "      <td>-5.564044</td>\n",
       "      <td>-11.718776</td>\n",
       "      <td>-10.097750</td>\n",
       "      <td>4.902070</td>\n",
       "      <td>69.758813</td>\n",
       "      <td>1</td>\n",
       "    </tr>\n",
       "    <tr>\n",
       "      <th>4</th>\n",
       "      <td>71.972846</td>\n",
       "      <td>0.506410</td>\n",
       "      <td>-23.834838</td>\n",
       "      <td>-2.181944</td>\n",
       "      <td>-29.875498</td>\n",
       "      <td>0.719521</td>\n",
       "      <td>-19.039014</td>\n",
       "      <td>-1.353935</td>\n",
       "      <td>-13.370416</td>\n",
       "      <td>5.069944</td>\n",
       "      <td>...</td>\n",
       "      <td>-15.531564</td>\n",
       "      <td>9.558282</td>\n",
       "      <td>14.068872</td>\n",
       "      <td>-4.271712</td>\n",
       "      <td>-29.419962</td>\n",
       "      <td>13.653176</td>\n",
       "      <td>6.385477</td>\n",
       "      <td>7.264809</td>\n",
       "      <td>102.319498</td>\n",
       "      <td>1</td>\n",
       "    </tr>\n",
       "  </tbody>\n",
       "</table>\n",
       "<p>5 rows × 183 columns</p>\n",
       "</div>"
      ],
      "text/plain": [
       "          m0        m1         m2        m3         m4        m5         m6  \\\n",
       "0  76.502611 -1.961417 -15.774347  3.831419 -10.473326  1.311828 -19.393732   \n",
       "1  66.931650  0.718853  -3.267830  4.181200  -8.050941  6.448259 -17.768517   \n",
       "2  78.774103  3.039700 -19.024435 -0.983591 -14.699337  7.586562 -12.823053   \n",
       "3  66.696107  9.211514  -4.532876  5.027148  -8.254011  8.101201  -9.676610   \n",
       "4  71.972846  0.506410 -23.834838 -2.181944 -29.875498  0.719521 -19.039014   \n",
       "\n",
       "          m7         m8         m9  ...       c160       c161       c162  \\\n",
       "0   5.286790 -16.631725   5.353444  ...   3.786696  -0.021175 -14.523117   \n",
       "1  14.091810 -18.332536   3.685560  ... -16.026806 -13.013754  18.476615   \n",
       "2   1.892920 -14.865326   3.595252  ... -18.087720  -6.627783  -2.016122   \n",
       "3   9.824043  -6.735213  10.332956  ... -21.272778 -13.864303  13.764830   \n",
       "4  -1.353935 -13.370416   5.069944  ... -15.531564   9.558282  14.068872   \n",
       "\n",
       "        c163       c164       c165       c166       c167        c168 Genre  \n",
       "0 -12.995331  -3.843489 -14.831619   2.251195  29.282607   64.650762     1  \n",
       "1  11.603178  -3.788941 -17.738734  -8.665845  18.410328   90.762876     1  \n",
       "2 -12.890326  -3.702126  -3.862404   0.221521  -9.624113   83.777252     1  \n",
       "3   4.091590  -5.564044 -11.718776 -10.097750   4.902070   69.758813     1  \n",
       "4  -4.271712 -29.419962  13.653176   6.385477   7.264809  102.319498     1  \n",
       "\n",
       "[5 rows x 183 columns]"
      ]
     },
     "execution_count": 25,
     "metadata": {},
     "output_type": "execute_result"
    }
   ],
   "source": [
    "df.head()\n"
   ]
  },
  {
   "cell_type": "markdown",
   "metadata": {},
   "source": [
    "The model now has 183 features and 1000 training examples\n",
    "- 13 - mean for each cepstral coefficient\n",
    "- 169 - elements of 13x13 covariance matrix\n",
    "- 1 - genre label (1-10)"
   ]
  },
  {
   "cell_type": "markdown",
   "metadata": {},
   "source": [
    "**FEATURE ANALYSIS**\n",
    "\n",
    "\n",
    "- Split data into training and test data (and randomize)\n",
    "- normalise values"
   ]
  },
  {
   "cell_type": "code",
   "execution_count": 7,
   "metadata": {},
   "outputs": [],
   "source": [
    "# split into train and test data with separate labels:\n",
    "X_train, X_test, y_train, y_test = train_test_split(df.iloc[:,:-1],df[[\"Genre\"]], test_size=0.1, random_state=420)"
   ]
  },
  {
   "cell_type": "code",
   "execution_count": 44,
   "metadata": {},
   "outputs": [],
   "source": [
    "# normalisation\n",
    "# standard scaler performs better than min max processor - between 0 and 1\n",
    "# - probably since it preserves the negative and positive values\n",
    "# - it may also converge quicker\n",
    "min_max_scaler = preprocessing.StandardScaler()\n",
    "train_scaled = min_max_scaler.fit_transform(X_train)\n",
    "test_scaled = min_max_scaler.fit_transform(X_test)\n",
    "# apply normalizer\n",
    "X_trainn = pd.DataFrame(train_scaled)\n",
    "X_testn = pd.DataFrame(test_scaled)\n",
    "\n",
    "X_trainn.columns = X_train.columns\n",
    "X_testn.columns = X_test.columns\n"
   ]
  },
  {
   "cell_type": "code",
   "execution_count": 34,
   "metadata": {},
   "outputs": [
    {
     "data": {
      "text/html": [
       "<div>\n",
       "<style scoped>\n",
       "    .dataframe tbody tr th:only-of-type {\n",
       "        vertical-align: middle;\n",
       "    }\n",
       "\n",
       "    .dataframe tbody tr th {\n",
       "        vertical-align: top;\n",
       "    }\n",
       "\n",
       "    .dataframe thead tr th {\n",
       "        text-align: left;\n",
       "    }\n",
       "</style>\n",
       "<table border=\"1\" class=\"dataframe\">\n",
       "  <thead>\n",
       "    <tr>\n",
       "      <th></th>\n",
       "      <th>m0</th>\n",
       "      <th>m1</th>\n",
       "      <th>m2</th>\n",
       "      <th>m3</th>\n",
       "      <th>m4</th>\n",
       "      <th>m5</th>\n",
       "      <th>m6</th>\n",
       "      <th>m7</th>\n",
       "      <th>m8</th>\n",
       "      <th>m9</th>\n",
       "      <th>...</th>\n",
       "      <th>c159</th>\n",
       "      <th>c160</th>\n",
       "      <th>c161</th>\n",
       "      <th>c162</th>\n",
       "      <th>c163</th>\n",
       "      <th>c164</th>\n",
       "      <th>c165</th>\n",
       "      <th>c166</th>\n",
       "      <th>c167</th>\n",
       "      <th>c168</th>\n",
       "    </tr>\n",
       "  </thead>\n",
       "  <tbody>\n",
       "    <tr>\n",
       "      <th>0</th>\n",
       "      <td>0.306366</td>\n",
       "      <td>-0.092496</td>\n",
       "      <td>0.450666</td>\n",
       "      <td>-2.134314</td>\n",
       "      <td>0.058855</td>\n",
       "      <td>-2.768623</td>\n",
       "      <td>2.153285</td>\n",
       "      <td>-2.159789</td>\n",
       "      <td>-0.534447</td>\n",
       "      <td>-0.335421</td>\n",
       "      <td>...</td>\n",
       "      <td>0.093076</td>\n",
       "      <td>-1.447600</td>\n",
       "      <td>0.539197</td>\n",
       "      <td>0.146005</td>\n",
       "      <td>0.004481</td>\n",
       "      <td>4.014386</td>\n",
       "      <td>-0.671173</td>\n",
       "      <td>-0.929741</td>\n",
       "      <td>1.367938</td>\n",
       "      <td>1.729033</td>\n",
       "    </tr>\n",
       "    <tr>\n",
       "      <th>1</th>\n",
       "      <td>0.395286</td>\n",
       "      <td>0.292218</td>\n",
       "      <td>-0.550730</td>\n",
       "      <td>-0.755607</td>\n",
       "      <td>1.650630</td>\n",
       "      <td>-0.021541</td>\n",
       "      <td>0.419605</td>\n",
       "      <td>-0.793512</td>\n",
       "      <td>0.909649</td>\n",
       "      <td>0.293572</td>\n",
       "      <td>...</td>\n",
       "      <td>0.612240</td>\n",
       "      <td>-0.145249</td>\n",
       "      <td>-1.850526</td>\n",
       "      <td>-0.306378</td>\n",
       "      <td>0.251588</td>\n",
       "      <td>-0.514343</td>\n",
       "      <td>0.258436</td>\n",
       "      <td>-0.299570</td>\n",
       "      <td>-0.255360</td>\n",
       "      <td>-0.192664</td>\n",
       "    </tr>\n",
       "    <tr>\n",
       "      <th>2</th>\n",
       "      <td>0.487060</td>\n",
       "      <td>-1.096310</td>\n",
       "      <td>2.064278</td>\n",
       "      <td>-0.721969</td>\n",
       "      <td>1.423644</td>\n",
       "      <td>-0.352090</td>\n",
       "      <td>1.227656</td>\n",
       "      <td>0.103770</td>\n",
       "      <td>1.409154</td>\n",
       "      <td>-1.602245</td>\n",
       "      <td>...</td>\n",
       "      <td>0.735582</td>\n",
       "      <td>1.842208</td>\n",
       "      <td>0.908292</td>\n",
       "      <td>1.095844</td>\n",
       "      <td>0.723725</td>\n",
       "      <td>-0.549773</td>\n",
       "      <td>0.432835</td>\n",
       "      <td>0.849918</td>\n",
       "      <td>0.584312</td>\n",
       "      <td>0.304761</td>\n",
       "    </tr>\n",
       "    <tr>\n",
       "      <th>3</th>\n",
       "      <td>0.163529</td>\n",
       "      <td>-0.229533</td>\n",
       "      <td>-0.398066</td>\n",
       "      <td>-0.385896</td>\n",
       "      <td>-0.798086</td>\n",
       "      <td>0.630567</td>\n",
       "      <td>0.397157</td>\n",
       "      <td>0.865466</td>\n",
       "      <td>-0.944766</td>\n",
       "      <td>1.568415</td>\n",
       "      <td>...</td>\n",
       "      <td>-0.790083</td>\n",
       "      <td>-1.023360</td>\n",
       "      <td>0.534273</td>\n",
       "      <td>3.119231</td>\n",
       "      <td>0.417806</td>\n",
       "      <td>-0.975491</td>\n",
       "      <td>0.653158</td>\n",
       "      <td>0.405850</td>\n",
       "      <td>-0.305321</td>\n",
       "      <td>0.118675</td>\n",
       "    </tr>\n",
       "    <tr>\n",
       "      <th>4</th>\n",
       "      <td>-1.442881</td>\n",
       "      <td>1.010230</td>\n",
       "      <td>-1.777626</td>\n",
       "      <td>-0.509585</td>\n",
       "      <td>-1.231931</td>\n",
       "      <td>-0.531530</td>\n",
       "      <td>-1.005433</td>\n",
       "      <td>0.289876</td>\n",
       "      <td>-0.714270</td>\n",
       "      <td>0.587926</td>\n",
       "      <td>...</td>\n",
       "      <td>0.232399</td>\n",
       "      <td>-0.442623</td>\n",
       "      <td>0.088447</td>\n",
       "      <td>0.596732</td>\n",
       "      <td>0.548695</td>\n",
       "      <td>0.456453</td>\n",
       "      <td>-1.555837</td>\n",
       "      <td>-1.156224</td>\n",
       "      <td>1.425033</td>\n",
       "      <td>1.741165</td>\n",
       "    </tr>\n",
       "    <tr>\n",
       "      <th>...</th>\n",
       "      <td>...</td>\n",
       "      <td>...</td>\n",
       "      <td>...</td>\n",
       "      <td>...</td>\n",
       "      <td>...</td>\n",
       "      <td>...</td>\n",
       "      <td>...</td>\n",
       "      <td>...</td>\n",
       "      <td>...</td>\n",
       "      <td>...</td>\n",
       "      <td>...</td>\n",
       "      <td>...</td>\n",
       "      <td>...</td>\n",
       "      <td>...</td>\n",
       "      <td>...</td>\n",
       "      <td>...</td>\n",
       "      <td>...</td>\n",
       "      <td>...</td>\n",
       "      <td>...</td>\n",
       "      <td>...</td>\n",
       "      <td>...</td>\n",
       "    </tr>\n",
       "    <tr>\n",
       "      <th>895</th>\n",
       "      <td>0.251858</td>\n",
       "      <td>-0.321846</td>\n",
       "      <td>1.936249</td>\n",
       "      <td>-1.685662</td>\n",
       "      <td>1.256958</td>\n",
       "      <td>-1.553462</td>\n",
       "      <td>1.694849</td>\n",
       "      <td>-1.776584</td>\n",
       "      <td>0.976346</td>\n",
       "      <td>0.609899</td>\n",
       "      <td>...</td>\n",
       "      <td>-0.786221</td>\n",
       "      <td>-0.601839</td>\n",
       "      <td>0.389283</td>\n",
       "      <td>0.940824</td>\n",
       "      <td>0.899772</td>\n",
       "      <td>0.301028</td>\n",
       "      <td>0.973186</td>\n",
       "      <td>0.312161</td>\n",
       "      <td>-0.718371</td>\n",
       "      <td>-0.562795</td>\n",
       "    </tr>\n",
       "    <tr>\n",
       "      <th>896</th>\n",
       "      <td>0.820867</td>\n",
       "      <td>-0.745257</td>\n",
       "      <td>-0.046338</td>\n",
       "      <td>-1.224433</td>\n",
       "      <td>0.075097</td>\n",
       "      <td>-1.775442</td>\n",
       "      <td>0.187418</td>\n",
       "      <td>-0.823814</td>\n",
       "      <td>0.827993</td>\n",
       "      <td>-0.604918</td>\n",
       "      <td>...</td>\n",
       "      <td>-0.865549</td>\n",
       "      <td>-0.635030</td>\n",
       "      <td>-0.417959</td>\n",
       "      <td>0.268805</td>\n",
       "      <td>0.178712</td>\n",
       "      <td>-0.708426</td>\n",
       "      <td>0.388112</td>\n",
       "      <td>1.049489</td>\n",
       "      <td>-0.894535</td>\n",
       "      <td>-1.231701</td>\n",
       "    </tr>\n",
       "    <tr>\n",
       "      <th>897</th>\n",
       "      <td>0.083848</td>\n",
       "      <td>-0.731011</td>\n",
       "      <td>-0.273522</td>\n",
       "      <td>0.092869</td>\n",
       "      <td>-0.381624</td>\n",
       "      <td>1.225761</td>\n",
       "      <td>-1.138331</td>\n",
       "      <td>0.894662</td>\n",
       "      <td>-0.720826</td>\n",
       "      <td>0.708874</td>\n",
       "      <td>...</td>\n",
       "      <td>0.200482</td>\n",
       "      <td>0.486378</td>\n",
       "      <td>0.117520</td>\n",
       "      <td>0.243701</td>\n",
       "      <td>0.023057</td>\n",
       "      <td>-0.523944</td>\n",
       "      <td>-0.101826</td>\n",
       "      <td>0.227510</td>\n",
       "      <td>-0.164058</td>\n",
       "      <td>-0.883463</td>\n",
       "    </tr>\n",
       "    <tr>\n",
       "      <th>898</th>\n",
       "      <td>0.341144</td>\n",
       "      <td>-0.632152</td>\n",
       "      <td>1.063731</td>\n",
       "      <td>0.594703</td>\n",
       "      <td>-3.298264</td>\n",
       "      <td>-0.291018</td>\n",
       "      <td>-1.567935</td>\n",
       "      <td>-0.310687</td>\n",
       "      <td>0.531698</td>\n",
       "      <td>-1.645913</td>\n",
       "      <td>...</td>\n",
       "      <td>0.005248</td>\n",
       "      <td>1.055927</td>\n",
       "      <td>0.988658</td>\n",
       "      <td>0.101528</td>\n",
       "      <td>0.095468</td>\n",
       "      <td>0.348454</td>\n",
       "      <td>1.009230</td>\n",
       "      <td>0.601830</td>\n",
       "      <td>0.146006</td>\n",
       "      <td>-0.868172</td>\n",
       "    </tr>\n",
       "    <tr>\n",
       "      <th>899</th>\n",
       "      <td>-0.318512</td>\n",
       "      <td>1.252022</td>\n",
       "      <td>-2.043336</td>\n",
       "      <td>2.466971</td>\n",
       "      <td>0.369780</td>\n",
       "      <td>-1.084946</td>\n",
       "      <td>0.269200</td>\n",
       "      <td>-2.797913</td>\n",
       "      <td>0.257366</td>\n",
       "      <td>-2.148561</td>\n",
       "      <td>...</td>\n",
       "      <td>-0.204261</td>\n",
       "      <td>0.101200</td>\n",
       "      <td>1.135288</td>\n",
       "      <td>-0.356999</td>\n",
       "      <td>-0.476107</td>\n",
       "      <td>-0.278333</td>\n",
       "      <td>-0.312258</td>\n",
       "      <td>0.427142</td>\n",
       "      <td>-0.276237</td>\n",
       "      <td>-1.086145</td>\n",
       "    </tr>\n",
       "  </tbody>\n",
       "</table>\n",
       "<p>900 rows × 182 columns</p>\n",
       "</div>"
      ],
      "text/plain": [
       "           m0        m1        m2        m3        m4        m5        m6  \\\n",
       "0    0.306366 -0.092496  0.450666 -2.134314  0.058855 -2.768623  2.153285   \n",
       "1    0.395286  0.292218 -0.550730 -0.755607  1.650630 -0.021541  0.419605   \n",
       "2    0.487060 -1.096310  2.064278 -0.721969  1.423644 -0.352090  1.227656   \n",
       "3    0.163529 -0.229533 -0.398066 -0.385896 -0.798086  0.630567  0.397157   \n",
       "4   -1.442881  1.010230 -1.777626 -0.509585 -1.231931 -0.531530 -1.005433   \n",
       "..        ...       ...       ...       ...       ...       ...       ...   \n",
       "895  0.251858 -0.321846  1.936249 -1.685662  1.256958 -1.553462  1.694849   \n",
       "896  0.820867 -0.745257 -0.046338 -1.224433  0.075097 -1.775442  0.187418   \n",
       "897  0.083848 -0.731011 -0.273522  0.092869 -0.381624  1.225761 -1.138331   \n",
       "898  0.341144 -0.632152  1.063731  0.594703 -3.298264 -0.291018 -1.567935   \n",
       "899 -0.318512  1.252022 -2.043336  2.466971  0.369780 -1.084946  0.269200   \n",
       "\n",
       "           m7        m8        m9  ...      c159      c160      c161  \\\n",
       "0   -2.159789 -0.534447 -0.335421  ...  0.093076 -1.447600  0.539197   \n",
       "1   -0.793512  0.909649  0.293572  ...  0.612240 -0.145249 -1.850526   \n",
       "2    0.103770  1.409154 -1.602245  ...  0.735582  1.842208  0.908292   \n",
       "3    0.865466 -0.944766  1.568415  ... -0.790083 -1.023360  0.534273   \n",
       "4    0.289876 -0.714270  0.587926  ...  0.232399 -0.442623  0.088447   \n",
       "..        ...       ...       ...  ...       ...       ...       ...   \n",
       "895 -1.776584  0.976346  0.609899  ... -0.786221 -0.601839  0.389283   \n",
       "896 -0.823814  0.827993 -0.604918  ... -0.865549 -0.635030 -0.417959   \n",
       "897  0.894662 -0.720826  0.708874  ...  0.200482  0.486378  0.117520   \n",
       "898 -0.310687  0.531698 -1.645913  ...  0.005248  1.055927  0.988658   \n",
       "899 -2.797913  0.257366 -2.148561  ... -0.204261  0.101200  1.135288   \n",
       "\n",
       "         c162      c163      c164      c165      c166      c167      c168  \n",
       "0    0.146005  0.004481  4.014386 -0.671173 -0.929741  1.367938  1.729033  \n",
       "1   -0.306378  0.251588 -0.514343  0.258436 -0.299570 -0.255360 -0.192664  \n",
       "2    1.095844  0.723725 -0.549773  0.432835  0.849918  0.584312  0.304761  \n",
       "3    3.119231  0.417806 -0.975491  0.653158  0.405850 -0.305321  0.118675  \n",
       "4    0.596732  0.548695  0.456453 -1.555837 -1.156224  1.425033  1.741165  \n",
       "..        ...       ...       ...       ...       ...       ...       ...  \n",
       "895  0.940824  0.899772  0.301028  0.973186  0.312161 -0.718371 -0.562795  \n",
       "896  0.268805  0.178712 -0.708426  0.388112  1.049489 -0.894535 -1.231701  \n",
       "897  0.243701  0.023057 -0.523944 -0.101826  0.227510 -0.164058 -0.883463  \n",
       "898  0.101528  0.095468  0.348454  1.009230  0.601830  0.146006 -0.868172  \n",
       "899 -0.356999 -0.476107 -0.278333 -0.312258  0.427142 -0.276237 -1.086145  \n",
       "\n",
       "[900 rows x 182 columns]"
      ]
     },
     "execution_count": 34,
     "metadata": {},
     "output_type": "execute_result"
    }
   ],
   "source": [
    "X_trainn"
   ]
  },
  {
   "cell_type": "markdown",
   "metadata": {},
   "source": [
    "<strong>Models</strong>\n",
    "\n",
    "**Logistic Regression**\n",
    "- Accuracy of 71% using:\n",
    "LogisticRegression(random_state=2, solver='lbfgs', multi_class='ovr', max_iter=8000)\n"
   ]
  },
  {
   "cell_type": "code",
   "execution_count": 74,
   "metadata": {},
   "outputs": [
    {
     "data": {
      "text/plain": [
       "LogisticRegression(max_iter=8000, multi_class='ovr', n_jobs=-1, random_state=2)"
      ]
     },
     "execution_count": 74,
     "metadata": {},
     "output_type": "execute_result"
    }
   ],
   "source": [
    "# Create and fit model\n",
    "# lbfgs solver used for multiclass problem - quicker than saga\n",
    "log_regr = LogisticRegression(n_jobs=-1,random_state=2, solver='lbfgs', multi_class='ovr', max_iter=8000)\n",
    "log_regr.fit(X_trainn, y_train.values.ravel())"
   ]
  },
  {
   "cell_type": "code",
   "execution_count": 75,
   "metadata": {},
   "outputs": [
    {
     "data": {
      "text/plain": [
       "(10, 182)"
      ]
     },
     "execution_count": 75,
     "metadata": {},
     "output_type": "execute_result"
    }
   ],
   "source": [
    "log_regr.coef_.shape"
   ]
  },
  {
   "cell_type": "code",
   "execution_count": 76,
   "metadata": {},
   "outputs": [],
   "source": [
    "# Using validation curve\n",
    "train_sizes, train_scores, valid_scores = learning_curve(log_regr, X_trainn, y_train.values.ravel(),\n",
    "                                                        train_sizes=np.linspace(150,700,50, dtype=int),cv=5,\n",
    "                                                        scoring = 'neg_mean_squared_error')"
   ]
  },
  {
   "cell_type": "code",
   "execution_count": 77,
   "metadata": {},
   "outputs": [],
   "source": [
    "train_scores_mean = -train_scores.mean(axis=1)\n",
    "valid_scores_mean =-valid_scores.mean(axis=1)"
   ]
  },
  {
   "cell_type": "code",
   "execution_count": 78,
   "metadata": {},
   "outputs": [
    {
     "data": {
      "text/plain": [
       "array([-0.        , -0.        , -0.        , -0.        , -0.        ,\n",
       "       -0.        , -0.        ,  0.03157895, -0.        ,  0.03585657,\n",
       "        0.03435115,  0.03956044,  0.03169014,  0.03050847,  0.02931596,\n",
       "        0.02830189,  0.02735562,  0.04764706,  0.17045455,  0.22754821,\n",
       "        0.25240642,  0.23688312,  0.29343434,  0.3495098 ,  0.38377088,\n",
       "        0.55209302,  0.55646259,  0.52626932,  0.59396552,  0.62021053,\n",
       "        0.6090535 ,  0.74486922,  0.7654224 ,  0.78923077,  0.81054614,\n",
       "        0.8402214 ,  0.87725632,  0.87929204,  0.87013889,  0.90630324,\n",
       "        0.9264214 ,  1.04196721,  1.02512077,  1.06962025,  1.08802488,\n",
       "        1.17465649,  1.20810811,  1.22895126,  1.23226744,  1.25771429])"
      ]
     },
     "execution_count": 78,
     "metadata": {},
     "output_type": "execute_result"
    }
   ],
   "source": [
    "train_scores_mean"
   ]
  },
  {
   "cell_type": "code",
   "execution_count": 79,
   "metadata": {},
   "outputs": [
    {
     "data": {
      "text/plain": [
       "<matplotlib.legend.Legend at 0x1986c0ecca0>"
      ]
     },
     "execution_count": 79,
     "metadata": {},
     "output_type": "execute_result"
    },
    {
     "data": {
      "image/png": "[encoded data removed]",
      "text/plain": [
       "<Figure size 432x288 with 1 Axes>"
      ]
     },
     "metadata": {
      "needs_background": "light"
     },
     "output_type": "display_data"
    }
   ],
   "source": [
    "# plot learning curves\n",
    "plt.plot(train_sizes, train_scores_mean, label = \"Training error\")\n",
    "plt.plot(train_sizes, valid_scores_mean, label = \"Validation error\")\n",
    "plt.xlabel(\"Training size\")\n",
    "plt.ylabel(\"MSE\")\n",
    "plt.title(\"Learning Curve Logistic Regression Model\")\n",
    "plt.legend()\n",
    "\n"
   ]
  },
  {
   "cell_type": "markdown",
   "metadata": {},
   "source": [
    "From the learning curve above, it is apparent that more training data would help the validation curve converge towards the training curve and decrease error. This is done in the \"Adding more data\" notebook."
   ]
  },
  {
   "cell_type": "code",
   "execution_count": 80,
   "metadata": {},
   "outputs": [],
   "source": [
    "# Add more data"
   ]
  },
  {
   "cell_type": "code",
   "execution_count": null,
   "metadata": {},
   "outputs": [],
   "source": []
  },
  {
   "cell_type": "code",
   "execution_count": null,
   "metadata": {},
   "outputs": [],
   "source": []
  },
  {
   "cell_type": "code",
   "execution_count": 81,
   "metadata": {},
   "outputs": [],
   "source": [
    "# Predict\n",
    "def accuracy(model):\n",
    "    pred = model.predict(X_testn)\n",
    "    return round(sum(y_test.values.ravel() == pred) / len(y_test), 6)"
   ]
  },
  {
   "cell_type": "code",
   "execution_count": 82,
   "metadata": {},
   "outputs": [
    {
     "name": "stdout",
     "output_type": "stream",
     "text": [
      "Logistic Regression Model Accuracy:  0.71\n"
     ]
    }
   ],
   "source": [
    "# Accuracy of logistic Regression model\n",
    "print(\"Logistic Regression Model Accuracy: \", accuracy(log_regr))"
   ]
  },
  {
   "cell_type": "code",
   "execution_count": 83,
   "metadata": {},
   "outputs": [
    {
     "data": {
      "text/plain": [
       "0.71"
      ]
     },
     "execution_count": 83,
     "metadata": {},
     "output_type": "execute_result"
    }
   ],
   "source": [
    "log_regr.score(X_testn, y_test)"
   ]
  },
  {
   "cell_type": "markdown",
   "metadata": {},
   "source": [
    "**Define Convolutional Neural Network model**\n",
    "- Using Conv2D\n",
    "    - need to have features in a 2D array\n",
    "        - can append \n",
    "\n"
   ]
  },
  {
   "cell_type": "code",
   "execution_count": 19,
   "metadata": {},
   "outputs": [],
   "source": [
    "# convert features to 2d array 14x13\n",
    "X_2d_train = np.zeros(shape=(len(X_trainn), 14,13,1))\n",
    "for i in range(len(X_trainn)):\n",
    "    X_2d_train[i] = X_trainn.iloc[i].to_numpy().reshape(14,13,1)"
   ]
  },
  {
   "cell_type": "code",
   "execution_count": 20,
   "metadata": {},
   "outputs": [
    {
     "data": {
      "text/plain": [
       "(900, 14, 13, 1)"
      ]
     },
     "execution_count": 20,
     "metadata": {},
     "output_type": "execute_result"
    }
   ],
   "source": [
    "X_2d_train.shape"
   ]
  },
  {
   "cell_type": "code",
   "execution_count": 21,
   "metadata": {},
   "outputs": [
    {
     "name": "stdout",
     "output_type": "stream",
     "text": [
      "Epoch 1/10\n",
      "9/9 [==============================] - 5s 154ms/step - loss: -2.6867 - accuracy: 0.0933 - val_loss: -18.3856 - val_accuracy: 0.1000\n",
      "Epoch 2/10\n",
      "9/9 [==============================] - 0s 10ms/step - loss: -28.2873 - accuracy: 0.1064 - val_loss: -82.6419 - val_accuracy: 0.1000\n",
      "Epoch 3/10\n",
      "9/9 [==============================] - 0s 10ms/step - loss: -113.5675 - accuracy: 0.0999 - val_loss: -266.1078 - val_accuracy: 0.1000\n",
      "Epoch 4/10\n",
      "9/9 [==============================] - 0s 10ms/step - loss: -338.0009 - accuracy: 0.0942 - val_loss: -708.6118 - val_accuracy: 0.1000\n",
      "Epoch 5/10\n",
      "9/9 [==============================] - 0s 10ms/step - loss: -871.5696 - accuracy: 0.1068 - val_loss: -1643.1027 - val_accuracy: 0.1000\n",
      "Epoch 6/10\n",
      "9/9 [==============================] - 0s 10ms/step - loss: -2000.9289 - accuracy: 0.0914 - val_loss: -3425.5278 - val_accuracy: 0.1000\n",
      "Epoch 7/10\n",
      "9/9 [==============================] - 0s 10ms/step - loss: -3959.8122 - accuracy: 0.1023 - val_loss: -6558.2432 - val_accuracy: 0.1000\n",
      "Epoch 8/10\n",
      "9/9 [==============================] - 0s 10ms/step - loss: -7633.7029 - accuracy: 0.0962 - val_loss: -11724.6602 - val_accuracy: 0.1000\n",
      "Epoch 9/10\n",
      "9/9 [==============================] - 0s 10ms/step - loss: -13105.3041 - accuracy: 0.1049 - val_loss: -19700.8301 - val_accuracy: 0.1000\n",
      "Epoch 10/10\n",
      "9/9 [==============================] - 0s 10ms/step - loss: -22032.3584 - accuracy: 0.1000 - val_loss: -31718.2949 - val_accuracy: 0.1000\n"
     ]
    },
    {
     "data": {
      "text/plain": [
       "<tensorflow.python.keras.callbacks.History at 0x19832c38550>"
      ]
     },
     "execution_count": 21,
     "metadata": {},
     "output_type": "execute_result"
    }
   ],
   "source": [
    "model = Sequential()\n",
    "\n",
    "model.add(Conv2D(64, (3,3), input_shape = X_2d_train.shape[1:]))\n",
    "model.add(Activation(\"relu\"))\n",
    "model.add(MaxPooling2D(pool_size=(2,2)))\n",
    "\n",
    "model.add(Conv2D(64, (3,3)))\n",
    "model.add(Activation(\"relu\"))\n",
    "model.add(MaxPooling2D(pool_size=(2,2)))\n",
    "\n",
    "model.add(Flatten()) # as it was 2D, dense needs 1D\n",
    "model.add(Dense(64))\n",
    "\n",
    "model.add(Dense(1))\n",
    "model.add(Activation('sigmoid'))\n",
    "\n",
    "model.compile(loss=\"binary_crossentropy\",\n",
    "              optimizer=\"adam\",\n",
    "              metrics=['accuracy'])\n",
    "\n",
    "model.fit(X_2d_train, y_train, batch_size=100, epochs=10, validation_split=0.1)"
   ]
  },
  {
   "cell_type": "markdown",
   "metadata": {},
   "source": [
    "Using covariance matrix and mean matrix in CNN didn't seem to train well at all. Instead, I'll use the Mel spectogram (MFCC before carrying out DCT) as features (seen in CNN with spectrograms Notebook).\n",
    "Otherwise, I could use a different model for the mel coefficients like logistic regression, multiclass SVMs and K-means clustering."
   ]
  },
  {
   "cell_type": "code",
   "execution_count": 22,
   "metadata": {},
   "outputs": [
    {
     "data": {
      "text/plain": [
       "(900, 182)"
      ]
     },
     "execution_count": 22,
     "metadata": {},
     "output_type": "execute_result"
    }
   ],
   "source": [
    "X_train.shape"
   ]
  },
  {
   "cell_type": "code",
   "execution_count": 23,
   "metadata": {},
   "outputs": [
    {
     "name": "stderr",
     "output_type": "stream",
     "text": [
      "<ipython-input-23-2982848bd061>:1: VisibleDeprecationWarning: Creating an ndarray from ragged nested sequences (which is a list-or-tuple of lists-or-tuples-or ndarrays with different lengths or shapes) is deprecated. If you meant to do this, you must specify 'dtype=object' when creating the ndarray\n",
      "  np.array(dataset).shape\n"
     ]
    },
    {
     "data": {
      "text/plain": [
       "(1000, 3)"
      ]
     },
     "execution_count": 23,
     "metadata": {},
     "output_type": "execute_result"
    }
   ],
   "source": [
    "np.array(dataset).shape"
   ]
  },
  {
   "cell_type": "code",
   "execution_count": null,
   "metadata": {},
   "outputs": [],
   "source": []
  },
  {
   "cell_type": "code",
   "execution_count": null,
   "metadata": {},
   "outputs": [],
   "source": []
  }
 ],
 "metadata": {
  "kernelspec": {
   "display_name": "Python 3",
   "language": "python",
   "name": "python3"
  },
  "language_info": {
   "codemirror_mode": {
    "name": "ipython",
    "version": 3
   },
   "file_extension": ".py",
   "mimetype": "text/x-python",
   "name": "python",
   "nbconvert_exporter": "python",
   "pygments_lexer": "ipython3",
   "version": "3.8.2"
  }
 },
 "nbformat": 4,
 "nbformat_minor": 4
}
