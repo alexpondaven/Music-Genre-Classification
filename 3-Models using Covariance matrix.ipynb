{
 "cells": [
  {
   "cell_type": "markdown",
   "metadata": {},
   "source": [
    "**Training models on Covariance matrix and mean matrix of the MFCC of audio samples**\n",
    "\n",
    "The Covariance matrix and mean matrix was found in the Music Genre Classification Notebook, and will be used to train several models here.\n",
    "\n",
    "Models:\n",
    "- Logistic Regression\n",
    "- Convolutional Neural Network\n",
    "    - Did not work well using the covariance matrix, so the Mel Spectrogram was used in the \"Models using Mel Spectrogram\" notebook"
   ]
  },
  {
   "cell_type": "code",
   "execution_count": 1,
   "metadata": {},
   "outputs": [],
   "source": [
    "import tensorflow as tf\n",
    "from tensorflow.keras.models import Sequential\n",
    "from tensorflow.keras.layers import Dense, Dropout, Activation, Flatten, Conv2D, MaxPooling2D\n",
    "\n",
    "from sklearn.model_selection import train_test_split, validation_curve, learning_curve\n",
    "from sklearn import preprocessing\n",
    "from sklearn.linear_model import LogisticRegression,LogisticRegressionCV\n",
    "\n",
    "import numpy as np\n",
    "import pandas as pd\n",
    "\n",
    "import matplotlib.pyplot as plt\n",
    "from matplotlib import cm\n",
    "import seaborn as sns\n",
    "import math, random, pickle, os, operator\n",
    "from tempfile import TemporaryFile\n",
    "\n",
    "from scipy.io import wavfile\n",
    "from python_speech_features import mfcc\n",
    "%matplotlib inline"
   ]
  },
  {
   "cell_type": "code",
   "execution_count": 2,
   "metadata": {},
   "outputs": [
    {
     "name": "stdout",
     "output_type": "stream",
     "text": [
      "1 Physical GPUs, 1 Logical GPUs\n"
     ]
    }
   ],
   "source": [
    "## Use GPU support\n",
    "# needed to prevent error from using too much gpu memory\n",
    "gpus = tf.config.experimental.list_physical_devices('GPU')\n",
    "if gpus:\n",
    "  try:\n",
    "    # Currently, memory growth needs to be the same across GPUs\n",
    "    for gpu in gpus:\n",
    "      tf.config.experimental.set_memory_growth(gpu, True)\n",
    "    logical_gpus = tf.config.experimental.list_logical_devices('GPU')\n",
    "    print(len(gpus), \"Physical GPUs,\", len(logical_gpus), \"Logical GPUs\")\n",
    "  except RuntimeError as e:\n",
    "    # Memory growth must be set before GPUs have been initialized\n",
    "    print(e)"
   ]
  },
  {
   "cell_type": "markdown",
   "metadata": {},
   "source": [
    "**Load Data**"
   ]
  },
  {
   "cell_type": "code",
   "execution_count": 134,
   "metadata": {},
   "outputs": [],
   "source": [
    "# loading data - could try converting to pandas Dataframe instead\n",
    "dataset = []\n",
    "train = []\n",
    "test = []\n",
    "with open(\"feat.dat\", 'rb') as f:\n",
    "    while True:\n",
    "        try:\n",
    "            dataset.append(pickle.load(f))\n",
    "        except EOFError:\n",
    "            f.close()\n",
    "            break\n",
    "    \n"
   ]
  },
  {
   "cell_type": "code",
   "execution_count": 241,
   "metadata": {},
   "outputs": [],
   "source": [
    "# convert data to Pandas DataFrame\n",
    "flattened = []\n",
    "for x in dataset:   \n",
    "    flattened.append(list(x[0]) + list(x[1].flatten()) + [x[2]])\n",
    "\n",
    "cols = [['m' +str(i) for i in range(13)]+['c'+str(i) for i in range(169)]+[\"Genre\"]]\n",
    "df = pd.DataFrame(flattened, columns=cols)\n",
    "    "
   ]
  },
  {
   "cell_type": "code",
   "execution_count": 242,
   "metadata": {},
   "outputs": [
    {
     "data": {
      "text/html": [
       "<div>\n",
       "<style scoped>\n",
       "    .dataframe tbody tr th:only-of-type {\n",
       "        vertical-align: middle;\n",
       "    }\n",
       "\n",
       "    .dataframe tbody tr th {\n",
       "        vertical-align: top;\n",
       "    }\n",
       "\n",
       "    .dataframe thead tr th {\n",
       "        text-align: left;\n",
       "    }\n",
       "</style>\n",
       "<table border=\"1\" class=\"dataframe\">\n",
       "  <thead>\n",
       "    <tr>\n",
       "      <th></th>\n",
       "      <th>m0</th>\n",
       "      <th>m1</th>\n",
       "      <th>m2</th>\n",
       "      <th>m3</th>\n",
       "      <th>m4</th>\n",
       "      <th>m5</th>\n",
       "      <th>m6</th>\n",
       "      <th>m7</th>\n",
       "      <th>m8</th>\n",
       "      <th>m9</th>\n",
       "      <th>...</th>\n",
       "      <th>c160</th>\n",
       "      <th>c161</th>\n",
       "      <th>c162</th>\n",
       "      <th>c163</th>\n",
       "      <th>c164</th>\n",
       "      <th>c165</th>\n",
       "      <th>c166</th>\n",
       "      <th>c167</th>\n",
       "      <th>c168</th>\n",
       "      <th>Genre</th>\n",
       "    </tr>\n",
       "  </thead>\n",
       "  <tbody>\n",
       "    <tr>\n",
       "      <th>0</th>\n",
       "      <td>76.502611</td>\n",
       "      <td>-1.961417</td>\n",
       "      <td>-15.774347</td>\n",
       "      <td>3.831419</td>\n",
       "      <td>-10.473326</td>\n",
       "      <td>1.311828</td>\n",
       "      <td>-19.393732</td>\n",
       "      <td>5.286790</td>\n",
       "      <td>-16.631725</td>\n",
       "      <td>5.353444</td>\n",
       "      <td>...</td>\n",
       "      <td>3.786696</td>\n",
       "      <td>-0.021175</td>\n",
       "      <td>-14.523117</td>\n",
       "      <td>-12.995331</td>\n",
       "      <td>-3.843489</td>\n",
       "      <td>-14.831619</td>\n",
       "      <td>2.251195</td>\n",
       "      <td>29.282607</td>\n",
       "      <td>64.650762</td>\n",
       "      <td>1</td>\n",
       "    </tr>\n",
       "    <tr>\n",
       "      <th>1</th>\n",
       "      <td>66.931650</td>\n",
       "      <td>0.718853</td>\n",
       "      <td>-3.267830</td>\n",
       "      <td>4.181200</td>\n",
       "      <td>-8.050941</td>\n",
       "      <td>6.448259</td>\n",
       "      <td>-17.768517</td>\n",
       "      <td>14.091810</td>\n",
       "      <td>-18.332536</td>\n",
       "      <td>3.685560</td>\n",
       "      <td>...</td>\n",
       "      <td>-16.026806</td>\n",
       "      <td>-13.013754</td>\n",
       "      <td>18.476615</td>\n",
       "      <td>11.603178</td>\n",
       "      <td>-3.788941</td>\n",
       "      <td>-17.738734</td>\n",
       "      <td>-8.665845</td>\n",
       "      <td>18.410328</td>\n",
       "      <td>90.762876</td>\n",
       "      <td>1</td>\n",
       "    </tr>\n",
       "    <tr>\n",
       "      <th>2</th>\n",
       "      <td>78.774103</td>\n",
       "      <td>3.039700</td>\n",
       "      <td>-19.024435</td>\n",
       "      <td>-0.983591</td>\n",
       "      <td>-14.699337</td>\n",
       "      <td>7.586562</td>\n",
       "      <td>-12.823053</td>\n",
       "      <td>1.892920</td>\n",
       "      <td>-14.865326</td>\n",
       "      <td>3.595252</td>\n",
       "      <td>...</td>\n",
       "      <td>-18.087720</td>\n",
       "      <td>-6.627783</td>\n",
       "      <td>-2.016122</td>\n",
       "      <td>-12.890326</td>\n",
       "      <td>-3.702126</td>\n",
       "      <td>-3.862404</td>\n",
       "      <td>0.221521</td>\n",
       "      <td>-9.624113</td>\n",
       "      <td>83.777252</td>\n",
       "      <td>1</td>\n",
       "    </tr>\n",
       "    <tr>\n",
       "      <th>3</th>\n",
       "      <td>66.696107</td>\n",
       "      <td>9.211514</td>\n",
       "      <td>-4.532876</td>\n",
       "      <td>5.027148</td>\n",
       "      <td>-8.254011</td>\n",
       "      <td>8.101201</td>\n",
       "      <td>-9.676610</td>\n",
       "      <td>9.824043</td>\n",
       "      <td>-6.735213</td>\n",
       "      <td>10.332956</td>\n",
       "      <td>...</td>\n",
       "      <td>-21.272778</td>\n",
       "      <td>-13.864303</td>\n",
       "      <td>13.764830</td>\n",
       "      <td>4.091590</td>\n",
       "      <td>-5.564044</td>\n",
       "      <td>-11.718776</td>\n",
       "      <td>-10.097750</td>\n",
       "      <td>4.902070</td>\n",
       "      <td>69.758813</td>\n",
       "      <td>1</td>\n",
       "    </tr>\n",
       "    <tr>\n",
       "      <th>4</th>\n",
       "      <td>71.972846</td>\n",
       "      <td>0.506410</td>\n",
       "      <td>-23.834838</td>\n",
       "      <td>-2.181944</td>\n",
       "      <td>-29.875498</td>\n",
       "      <td>0.719521</td>\n",
       "      <td>-19.039014</td>\n",
       "      <td>-1.353935</td>\n",
       "      <td>-13.370416</td>\n",
       "      <td>5.069944</td>\n",
       "      <td>...</td>\n",
       "      <td>-15.531564</td>\n",
       "      <td>9.558282</td>\n",
       "      <td>14.068872</td>\n",
       "      <td>-4.271712</td>\n",
       "      <td>-29.419962</td>\n",
       "      <td>13.653176</td>\n",
       "      <td>6.385477</td>\n",
       "      <td>7.264809</td>\n",
       "      <td>102.319498</td>\n",
       "      <td>1</td>\n",
       "    </tr>\n",
       "  </tbody>\n",
       "</table>\n",
       "<p>5 rows × 183 columns</p>\n",
       "</div>"
      ],
      "text/plain": [
       "          m0        m1         m2        m3         m4        m5         m6  \\\n",
       "0  76.502611 -1.961417 -15.774347  3.831419 -10.473326  1.311828 -19.393732   \n",
       "1  66.931650  0.718853  -3.267830  4.181200  -8.050941  6.448259 -17.768517   \n",
       "2  78.774103  3.039700 -19.024435 -0.983591 -14.699337  7.586562 -12.823053   \n",
       "3  66.696107  9.211514  -4.532876  5.027148  -8.254011  8.101201  -9.676610   \n",
       "4  71.972846  0.506410 -23.834838 -2.181944 -29.875498  0.719521 -19.039014   \n",
       "\n",
       "          m7         m8         m9  ...       c160       c161       c162  \\\n",
       "0   5.286790 -16.631725   5.353444  ...   3.786696  -0.021175 -14.523117   \n",
       "1  14.091810 -18.332536   3.685560  ... -16.026806 -13.013754  18.476615   \n",
       "2   1.892920 -14.865326   3.595252  ... -18.087720  -6.627783  -2.016122   \n",
       "3   9.824043  -6.735213  10.332956  ... -21.272778 -13.864303  13.764830   \n",
       "4  -1.353935 -13.370416   5.069944  ... -15.531564   9.558282  14.068872   \n",
       "\n",
       "        c163       c164       c165       c166       c167        c168 Genre  \n",
       "0 -12.995331  -3.843489 -14.831619   2.251195  29.282607   64.650762     1  \n",
       "1  11.603178  -3.788941 -17.738734  -8.665845  18.410328   90.762876     1  \n",
       "2 -12.890326  -3.702126  -3.862404   0.221521  -9.624113   83.777252     1  \n",
       "3   4.091590  -5.564044 -11.718776 -10.097750   4.902070   69.758813     1  \n",
       "4  -4.271712 -29.419962  13.653176   6.385477   7.264809  102.319498     1  \n",
       "\n",
       "[5 rows x 183 columns]"
      ]
     },
     "execution_count": 242,
     "metadata": {},
     "output_type": "execute_result"
    }
   ],
   "source": [
    "df.head()\n"
   ]
  },
  {
   "cell_type": "markdown",
   "metadata": {},
   "source": [
    "The model now has 183 features and 1000 training examples\n",
    "- 13 - mean for each cepstral coefficient\n",
    "- 169 - elements of 13x13 covariance matrix\n",
    "- 1 - genre label (1-10)"
   ]
  },
  {
   "cell_type": "markdown",
   "metadata": {},
   "source": [
    "**FEATURE ANALYSIS**\n",
    "\n",
    "\n",
    "- Split data into training and test data (and randomize)\n",
    "- normalise values"
   ]
  },
  {
   "cell_type": "code",
   "execution_count": 243,
   "metadata": {},
   "outputs": [],
   "source": [
    "X = df.iloc[:,:-1]\n",
    "y = df[[\"Genre\"]]"
   ]
  },
  {
   "cell_type": "code",
   "execution_count": 244,
   "metadata": {},
   "outputs": [],
   "source": [
    "# normalisation\n",
    "# standard scaler performs better than min max processor - between 0 and 1\n",
    "# - probably since it preserves the negative and positive values\n",
    "# - it may also converge quicker\n",
    "min_max_scaler = preprocessing.StandardScaler()\n",
    "X_scaled = min_max_scaler.fit_transform(X)\n",
    "# apply normalizer\n",
    "X_norm = pd.DataFrame(X_scaled)\n",
    "\n",
    "X_norm.columns = X.columns\n"
   ]
  },
  {
   "cell_type": "code",
   "execution_count": 245,
   "metadata": {},
   "outputs": [
    {
     "data": {
      "text/html": [
       "<div>\n",
       "<style scoped>\n",
       "    .dataframe tbody tr th:only-of-type {\n",
       "        vertical-align: middle;\n",
       "    }\n",
       "\n",
       "    .dataframe tbody tr th {\n",
       "        vertical-align: top;\n",
       "    }\n",
       "\n",
       "    .dataframe thead tr th {\n",
       "        text-align: left;\n",
       "    }\n",
       "</style>\n",
       "<table border=\"1\" class=\"dataframe\">\n",
       "  <thead>\n",
       "    <tr>\n",
       "      <th></th>\n",
       "      <th>Genre</th>\n",
       "    </tr>\n",
       "  </thead>\n",
       "  <tbody>\n",
       "    <tr>\n",
       "      <th>0</th>\n",
       "      <td>1</td>\n",
       "    </tr>\n",
       "    <tr>\n",
       "      <th>1</th>\n",
       "      <td>1</td>\n",
       "    </tr>\n",
       "    <tr>\n",
       "      <th>2</th>\n",
       "      <td>1</td>\n",
       "    </tr>\n",
       "    <tr>\n",
       "      <th>3</th>\n",
       "      <td>1</td>\n",
       "    </tr>\n",
       "    <tr>\n",
       "      <th>4</th>\n",
       "      <td>1</td>\n",
       "    </tr>\n",
       "    <tr>\n",
       "      <th>...</th>\n",
       "      <td>...</td>\n",
       "    </tr>\n",
       "    <tr>\n",
       "      <th>995</th>\n",
       "      <td>10</td>\n",
       "    </tr>\n",
       "    <tr>\n",
       "      <th>996</th>\n",
       "      <td>10</td>\n",
       "    </tr>\n",
       "    <tr>\n",
       "      <th>997</th>\n",
       "      <td>10</td>\n",
       "    </tr>\n",
       "    <tr>\n",
       "      <th>998</th>\n",
       "      <td>10</td>\n",
       "    </tr>\n",
       "    <tr>\n",
       "      <th>999</th>\n",
       "      <td>10</td>\n",
       "    </tr>\n",
       "  </tbody>\n",
       "</table>\n",
       "<p>1000 rows × 1 columns</p>\n",
       "</div>"
      ],
      "text/plain": [
       "    Genre\n",
       "0       1\n",
       "1       1\n",
       "2       1\n",
       "3       1\n",
       "4       1\n",
       "..    ...\n",
       "995    10\n",
       "996    10\n",
       "997    10\n",
       "998    10\n",
       "999    10\n",
       "\n",
       "[1000 rows x 1 columns]"
      ]
     },
     "execution_count": 245,
     "metadata": {},
     "output_type": "execute_result"
    }
   ],
   "source": [
    "y"
   ]
  },
  {
   "cell_type": "code",
   "execution_count": 246,
   "metadata": {},
   "outputs": [],
   "source": [
    "# split into train and test data with separate labels:\n",
    "X_train, X_test, y_train, y_test = train_test_split(X_norm,y, test_size=0.1, random_state=420)"
   ]
  },
  {
   "cell_type": "code",
   "execution_count": 247,
   "metadata": {},
   "outputs": [
    {
     "data": {
      "text/html": [
       "<div>\n",
       "<style scoped>\n",
       "    .dataframe tbody tr th:only-of-type {\n",
       "        vertical-align: middle;\n",
       "    }\n",
       "\n",
       "    .dataframe tbody tr th {\n",
       "        vertical-align: top;\n",
       "    }\n",
       "\n",
       "    .dataframe thead tr th {\n",
       "        text-align: left;\n",
       "    }\n",
       "</style>\n",
       "<table border=\"1\" class=\"dataframe\">\n",
       "  <thead>\n",
       "    <tr>\n",
       "      <th></th>\n",
       "      <th>m0</th>\n",
       "      <th>m1</th>\n",
       "      <th>m2</th>\n",
       "      <th>m3</th>\n",
       "      <th>m4</th>\n",
       "      <th>m5</th>\n",
       "      <th>m6</th>\n",
       "      <th>m7</th>\n",
       "      <th>m8</th>\n",
       "      <th>m9</th>\n",
       "      <th>...</th>\n",
       "      <th>c159</th>\n",
       "      <th>c160</th>\n",
       "      <th>c161</th>\n",
       "      <th>c162</th>\n",
       "      <th>c163</th>\n",
       "      <th>c164</th>\n",
       "      <th>c165</th>\n",
       "      <th>c166</th>\n",
       "      <th>c167</th>\n",
       "      <th>c168</th>\n",
       "    </tr>\n",
       "  </thead>\n",
       "  <tbody>\n",
       "    <tr>\n",
       "      <th>753</th>\n",
       "      <td>0.324414</td>\n",
       "      <td>-0.129911</td>\n",
       "      <td>0.451255</td>\n",
       "      <td>-2.100491</td>\n",
       "      <td>0.069541</td>\n",
       "      <td>-2.735649</td>\n",
       "      <td>2.174495</td>\n",
       "      <td>-2.143841</td>\n",
       "      <td>-0.503978</td>\n",
       "      <td>-0.326778</td>\n",
       "      <td>...</td>\n",
       "      <td>0.109965</td>\n",
       "      <td>-1.395237</td>\n",
       "      <td>0.545093</td>\n",
       "      <td>0.128219</td>\n",
       "      <td>0.000742</td>\n",
       "      <td>4.121626</td>\n",
       "      <td>-0.679685</td>\n",
       "      <td>-0.962150</td>\n",
       "      <td>1.360786</td>\n",
       "      <td>1.708399</td>\n",
       "    </tr>\n",
       "    <tr>\n",
       "      <th>894</th>\n",
       "      <td>0.413000</td>\n",
       "      <td>0.249725</td>\n",
       "      <td>-0.542112</td>\n",
       "      <td>-0.738699</td>\n",
       "      <td>1.657118</td>\n",
       "      <td>-0.028496</td>\n",
       "      <td>0.436719</td>\n",
       "      <td>-0.779975</td>\n",
       "      <td>0.916687</td>\n",
       "      <td>0.301654</td>\n",
       "      <td>...</td>\n",
       "      <td>0.609829</td>\n",
       "      <td>-0.114878</td>\n",
       "      <td>-1.828992</td>\n",
       "      <td>-0.314283</td>\n",
       "      <td>0.251265</td>\n",
       "      <td>-0.521169</td>\n",
       "      <td>0.244801</td>\n",
       "      <td>-0.321018</td>\n",
       "      <td>-0.269711</td>\n",
       "      <td>-0.209186</td>\n",
       "    </tr>\n",
       "    <tr>\n",
       "      <th>852</th>\n",
       "      <td>0.504429</td>\n",
       "      <td>-1.120477</td>\n",
       "      <td>2.051930</td>\n",
       "      <td>-0.705474</td>\n",
       "      <td>1.430730</td>\n",
       "      <td>-0.354240</td>\n",
       "      <td>1.246680</td>\n",
       "      <td>0.115724</td>\n",
       "      <td>1.408088</td>\n",
       "      <td>-1.592473</td>\n",
       "      <td>...</td>\n",
       "      <td>0.728586</td>\n",
       "      <td>1.839018</td>\n",
       "      <td>0.911773</td>\n",
       "      <td>1.057311</td>\n",
       "      <td>0.729928</td>\n",
       "      <td>-0.557491</td>\n",
       "      <td>0.418238</td>\n",
       "      <td>0.848465</td>\n",
       "      <td>0.573685</td>\n",
       "      <td>0.287174</td>\n",
       "    </tr>\n",
       "    <tr>\n",
       "      <th>346</th>\n",
       "      <td>0.182115</td>\n",
       "      <td>-0.265140</td>\n",
       "      <td>-0.390672</td>\n",
       "      <td>-0.373524</td>\n",
       "      <td>-0.785140</td>\n",
       "      <td>0.614134</td>\n",
       "      <td>0.414218</td>\n",
       "      <td>0.876076</td>\n",
       "      <td>-0.907639</td>\n",
       "      <td>1.575361</td>\n",
       "      <td>...</td>\n",
       "      <td>-0.740360</td>\n",
       "      <td>-0.978161</td>\n",
       "      <td>0.540201</td>\n",
       "      <td>3.036502</td>\n",
       "      <td>0.419780</td>\n",
       "      <td>-0.993932</td>\n",
       "      <td>0.637347</td>\n",
       "      <td>0.396673</td>\n",
       "      <td>-0.319894</td>\n",
       "      <td>0.101487</td>\n",
       "    </tr>\n",
       "    <tr>\n",
       "      <th>129</th>\n",
       "      <td>-1.418247</td>\n",
       "      <td>0.958260</td>\n",
       "      <td>-1.759171</td>\n",
       "      <td>-0.495696</td>\n",
       "      <td>-1.217841</td>\n",
       "      <td>-0.531072</td>\n",
       "      <td>-0.991686</td>\n",
       "      <td>0.301502</td>\n",
       "      <td>-0.680882</td>\n",
       "      <td>0.595745</td>\n",
       "      <td>...</td>\n",
       "      <td>0.244109</td>\n",
       "      <td>-0.407230</td>\n",
       "      <td>0.097293</td>\n",
       "      <td>0.569101</td>\n",
       "      <td>0.552478</td>\n",
       "      <td>0.474079</td>\n",
       "      <td>-1.559474</td>\n",
       "      <td>-1.192572</td>\n",
       "      <td>1.418135</td>\n",
       "      <td>1.720505</td>\n",
       "    </tr>\n",
       "    <tr>\n",
       "      <th>...</th>\n",
       "      <td>...</td>\n",
       "      <td>...</td>\n",
       "      <td>...</td>\n",
       "      <td>...</td>\n",
       "      <td>...</td>\n",
       "      <td>...</td>\n",
       "      <td>...</td>\n",
       "      <td>...</td>\n",
       "      <td>...</td>\n",
       "      <td>...</td>\n",
       "      <td>...</td>\n",
       "      <td>...</td>\n",
       "      <td>...</td>\n",
       "      <td>...</td>\n",
       "      <td>...</td>\n",
       "      <td>...</td>\n",
       "      <td>...</td>\n",
       "      <td>...</td>\n",
       "      <td>...</td>\n",
       "      <td>...</td>\n",
       "      <td>...</td>\n",
       "    </tr>\n",
       "    <tr>\n",
       "      <th>799</th>\n",
       "      <td>0.270112</td>\n",
       "      <td>-0.356234</td>\n",
       "      <td>1.924927</td>\n",
       "      <td>-1.657343</td>\n",
       "      <td>1.264483</td>\n",
       "      <td>-1.538151</td>\n",
       "      <td>1.714976</td>\n",
       "      <td>-1.761312</td>\n",
       "      <td>0.982302</td>\n",
       "      <td>0.617699</td>\n",
       "      <td>...</td>\n",
       "      <td>-0.736642</td>\n",
       "      <td>-0.563758</td>\n",
       "      <td>0.396159</td>\n",
       "      <td>0.905677</td>\n",
       "      <td>0.908408</td>\n",
       "      <td>0.314739</td>\n",
       "      <td>0.955612</td>\n",
       "      <td>0.301354</td>\n",
       "      <td>-0.734775</td>\n",
       "      <td>-0.578525</td>\n",
       "    </tr>\n",
       "    <tr>\n",
       "      <th>575</th>\n",
       "      <td>0.836979</td>\n",
       "      <td>-0.774057</td>\n",
       "      <td>-0.041764</td>\n",
       "      <td>-1.201773</td>\n",
       "      <td>0.085740</td>\n",
       "      <td>-1.756904</td>\n",
       "      <td>0.203984</td>\n",
       "      <td>-0.810223</td>\n",
       "      <td>0.836356</td>\n",
       "      <td>-0.596034</td>\n",
       "      <td>...</td>\n",
       "      <td>-0.813021</td>\n",
       "      <td>-0.596388</td>\n",
       "      <td>-0.405800</td>\n",
       "      <td>0.248337</td>\n",
       "      <td>0.177381</td>\n",
       "      <td>-0.720140</td>\n",
       "      <td>0.373762</td>\n",
       "      <td>1.051508</td>\n",
       "      <td>-0.911721</td>\n",
       "      <td>-1.246000</td>\n",
       "    </tr>\n",
       "    <tr>\n",
       "      <th>390</th>\n",
       "      <td>0.102735</td>\n",
       "      <td>-0.759999</td>\n",
       "      <td>-0.267127</td>\n",
       "      <td>0.099368</td>\n",
       "      <td>-0.369777</td>\n",
       "      <td>1.200677</td>\n",
       "      <td>-1.124899</td>\n",
       "      <td>0.905220</td>\n",
       "      <td>-0.687332</td>\n",
       "      <td>0.716586</td>\n",
       "      <td>...</td>\n",
       "      <td>0.213379</td>\n",
       "      <td>0.506083</td>\n",
       "      <td>0.126175</td>\n",
       "      <td>0.223781</td>\n",
       "      <td>0.019575</td>\n",
       "      <td>-0.531011</td>\n",
       "      <td>-0.113476</td>\n",
       "      <td>0.215231</td>\n",
       "      <td>-0.178004</td>\n",
       "      <td>-0.898507</td>\n",
       "    </tr>\n",
       "    <tr>\n",
       "      <th>72</th>\n",
       "      <td>0.359062</td>\n",
       "      <td>-0.662445</td>\n",
       "      <td>1.059405</td>\n",
       "      <td>0.595044</td>\n",
       "      <td>-3.278725</td>\n",
       "      <td>-0.294056</td>\n",
       "      <td>-1.555517</td>\n",
       "      <td>-0.298002</td>\n",
       "      <td>0.544868</td>\n",
       "      <td>-1.636101</td>\n",
       "      <td>...</td>\n",
       "      <td>0.025403</td>\n",
       "      <td>1.066014</td>\n",
       "      <td>0.991613</td>\n",
       "      <td>0.084713</td>\n",
       "      <td>0.092987</td>\n",
       "      <td>0.363359</td>\n",
       "      <td>0.991457</td>\n",
       "      <td>0.596062</td>\n",
       "      <td>0.133435</td>\n",
       "      <td>-0.883249</td>\n",
       "    </tr>\n",
       "    <tr>\n",
       "      <th>945</th>\n",
       "      <td>-0.298111</td>\n",
       "      <td>1.196861</td>\n",
       "      <td>-2.022751</td>\n",
       "      <td>2.444343</td>\n",
       "      <td>0.379646</td>\n",
       "      <td>-1.076444</td>\n",
       "      <td>0.285958</td>\n",
       "      <td>-2.780838</td>\n",
       "      <td>0.274988</td>\n",
       "      <td>-2.138301</td>\n",
       "      <td>...</td>\n",
       "      <td>-0.176317</td>\n",
       "      <td>0.127409</td>\n",
       "      <td>1.137283</td>\n",
       "      <td>-0.363799</td>\n",
       "      <td>-0.486489</td>\n",
       "      <td>-0.279214</td>\n",
       "      <td>-0.322748</td>\n",
       "      <td>0.418335</td>\n",
       "      <td>-0.290681</td>\n",
       "      <td>-1.100755</td>\n",
       "    </tr>\n",
       "  </tbody>\n",
       "</table>\n",
       "<p>900 rows × 182 columns</p>\n",
       "</div>"
      ],
      "text/plain": [
       "           m0        m1        m2        m3        m4        m5        m6  \\\n",
       "753  0.324414 -0.129911  0.451255 -2.100491  0.069541 -2.735649  2.174495   \n",
       "894  0.413000  0.249725 -0.542112 -0.738699  1.657118 -0.028496  0.436719   \n",
       "852  0.504429 -1.120477  2.051930 -0.705474  1.430730 -0.354240  1.246680   \n",
       "346  0.182115 -0.265140 -0.390672 -0.373524 -0.785140  0.614134  0.414218   \n",
       "129 -1.418247  0.958260 -1.759171 -0.495696 -1.217841 -0.531072 -0.991686   \n",
       "..        ...       ...       ...       ...       ...       ...       ...   \n",
       "799  0.270112 -0.356234  1.924927 -1.657343  1.264483 -1.538151  1.714976   \n",
       "575  0.836979 -0.774057 -0.041764 -1.201773  0.085740 -1.756904  0.203984   \n",
       "390  0.102735 -0.759999 -0.267127  0.099368 -0.369777  1.200677 -1.124899   \n",
       "72   0.359062 -0.662445  1.059405  0.595044 -3.278725 -0.294056 -1.555517   \n",
       "945 -0.298111  1.196861 -2.022751  2.444343  0.379646 -1.076444  0.285958   \n",
       "\n",
       "           m7        m8        m9  ...      c159      c160      c161  \\\n",
       "753 -2.143841 -0.503978 -0.326778  ...  0.109965 -1.395237  0.545093   \n",
       "894 -0.779975  0.916687  0.301654  ...  0.609829 -0.114878 -1.828992   \n",
       "852  0.115724  1.408088 -1.592473  ...  0.728586  1.839018  0.911773   \n",
       "346  0.876076 -0.907639  1.575361  ... -0.740360 -0.978161  0.540201   \n",
       "129  0.301502 -0.680882  0.595745  ...  0.244109 -0.407230  0.097293   \n",
       "..        ...       ...       ...  ...       ...       ...       ...   \n",
       "799 -1.761312  0.982302  0.617699  ... -0.736642 -0.563758  0.396159   \n",
       "575 -0.810223  0.836356 -0.596034  ... -0.813021 -0.596388 -0.405800   \n",
       "390  0.905220 -0.687332  0.716586  ...  0.213379  0.506083  0.126175   \n",
       "72  -0.298002  0.544868 -1.636101  ...  0.025403  1.066014  0.991613   \n",
       "945 -2.780838  0.274988 -2.138301  ... -0.176317  0.127409  1.137283   \n",
       "\n",
       "         c162      c163      c164      c165      c166      c167      c168  \n",
       "753  0.128219  0.000742  4.121626 -0.679685 -0.962150  1.360786  1.708399  \n",
       "894 -0.314283  0.251265 -0.521169  0.244801 -0.321018 -0.269711 -0.209186  \n",
       "852  1.057311  0.729928 -0.557491  0.418238  0.848465  0.573685  0.287174  \n",
       "346  3.036502  0.419780 -0.993932  0.637347  0.396673 -0.319894  0.101487  \n",
       "129  0.569101  0.552478  0.474079 -1.559474 -1.192572  1.418135  1.720505  \n",
       "..        ...       ...       ...       ...       ...       ...       ...  \n",
       "799  0.905677  0.908408  0.314739  0.955612  0.301354 -0.734775 -0.578525  \n",
       "575  0.248337  0.177381 -0.720140  0.373762  1.051508 -0.911721 -1.246000  \n",
       "390  0.223781  0.019575 -0.531011 -0.113476  0.215231 -0.178004 -0.898507  \n",
       "72   0.084713  0.092987  0.363359  0.991457  0.596062  0.133435 -0.883249  \n",
       "945 -0.363799 -0.486489 -0.279214 -0.322748  0.418335 -0.290681 -1.100755  \n",
       "\n",
       "[900 rows x 182 columns]"
      ]
     },
     "execution_count": 247,
     "metadata": {},
     "output_type": "execute_result"
    }
   ],
   "source": [
    "X_train"
   ]
  },
  {
   "cell_type": "markdown",
   "metadata": {},
   "source": [
    "<strong>Models</strong>\n",
    "\n",
    "**Logistic Regression**\n",
    "- Accuracy of 78% using:\n",
    "\n",
    "LogisticRegression(random_state=2, solver='lbfgs', multi_class='ovr', max_iter=8000, C=0.1)\n",
    "\n"
   ]
  },
  {
   "cell_type": "code",
   "execution_count": 248,
   "metadata": {},
   "outputs": [
    {
     "data": {
      "text/plain": [
       "LogisticRegression(C=0.01, max_iter=1000, multi_class='ovr', n_jobs=-1,\n",
       "                   random_state=2)"
      ]
     },
     "execution_count": 248,
     "metadata": {},
     "output_type": "execute_result"
    }
   ],
   "source": [
    "# Create and fit model\n",
    "# lbfgs solver used for multiclass problem - quicker than saga\n",
    "# \n",
    "log_regr = LogisticRegression(n_jobs=-1,random_state=2, solver='lbfgs', multi_class='ovr', max_iter=1000, C=0.01)\n",
    "log_regr.fit(X_train, y_train.values.ravel())"
   ]
  },
  {
   "cell_type": "code",
   "execution_count": 257,
   "metadata": {},
   "outputs": [
    {
     "name": "stdout",
     "output_type": "stream",
     "text": [
      "Important features:  []\n"
     ]
    }
   ],
   "source": [
    "# check importance of features on average\n",
    "weights = log_regr.coef_.sum(axis=0)\n",
    "imp = abs(weights) > 1\n",
    "impl = []\n",
    "for i in range(len(imp)):\n",
    "    if imp[i]:\n",
    "        impl.append(cols[0][i])\n",
    "\n",
    "print(\"Important features: \",impl)"
   ]
  },
  {
   "cell_type": "code",
   "execution_count": 262,
   "metadata": {},
   "outputs": [],
   "source": [
    "# Using validation curve\n",
    "def plot_learning_curve(model):\n",
    "    train_sizes, train_scores, valid_scores = learning_curve(model, X_train, y_train.values.ravel(),\n",
    "                                                            train_sizes=np.linspace(150,700,50, dtype=int),cv=5,\n",
    "                                                            scoring = 'neg_mean_squared_error')\n",
    "    train_scores_mean = -train_scores.mean(axis=1)\n",
    "    valid_scores_mean =-valid_scores.mean(axis=1)\n",
    "    # plot learning curves\n",
    "    plt.plot(train_sizes, train_scores_mean, label = \"Training error\")\n",
    "    plt.plot(train_sizes, valid_scores_mean, label = \"Validation error\")\n",
    "    plt.xlabel(\"Training size\")\n",
    "    plt.ylabel(\"MSE\")\n",
    "    plt.title(\"Learning Curve Logistic Regression Model\")\n",
    "    plt.legend()"
   ]
  },
  {
   "cell_type": "code",
   "execution_count": 263,
   "metadata": {},
   "outputs": [
    {
     "data": {
      "image/png": "[encoded data removed]",
      "text/plain": [
       "<Figure size 432x288 with 1 Axes>"
      ]
     },
     "metadata": {
      "needs_background": "light"
     },
     "output_type": "display_data"
    }
   ],
   "source": [
    "plot_learning_curve(log_regr)"
   ]
  },
  {
   "cell_type": "code",
   "execution_count": 265,
   "metadata": {},
   "outputs": [
    {
     "name": "stdout",
     "output_type": "stream",
     "text": [
      "Logistic Regression Model Accuracy:  0.78\n"
     ]
    }
   ],
   "source": [
    "# Predictions\n",
    "def accuracy(model):\n",
    "    pred = model.predict(X_test)\n",
    "    return round(sum(y_test.values.ravel() == pred) / len(y_test), 6)\n",
    "\n",
    "# Accuracy of logistic Regression model\n",
    "print(\"Logistic Regression Model Accuracy: \", accuracy(log_regr))"
   ]
  },
  {
   "cell_type": "code",
   "execution_count": 267,
   "metadata": {},
   "outputs": [
    {
     "data": {
      "text/plain": [
       "0.78"
      ]
     },
     "execution_count": 267,
     "metadata": {},
     "output_type": "execute_result"
    }
   ],
   "source": [
    "# Alternatively:\n",
    "log_regr.score(X_test, y_test)"
   ]
  },
  {
   "cell_type": "markdown",
   "metadata": {},
   "source": [
    "**Overfitting**\n",
    "\n",
    "From the learning curve above, it is apparent that more training data could help the validation curve converge towards the training curve and decrease error. This is done in the \"Adding more data\" notebook (or below).\n",
    "\n",
    "- increasing the strength of regularisation (decreasing C from 1 to 0.01) helped overfitting (accuracy went from 71% to 76%)\n",
    "\n",
    "\n",
    "Could try to decrease the number of features through PCA\n",
    "- could use PCA to find the K most significant components of the coefficient matrix"
   ]
  },
  {
   "cell_type": "code",
   "execution_count": 268,
   "metadata": {},
   "outputs": [],
   "source": [
    "# will only carry out PCA on MFCC coefficient matrix features\n",
    "X_m = X.iloc[:,:13]\n",
    "X_c = X.iloc[:,13:]\n"
   ]
  },
  {
   "cell_type": "code",
   "execution_count": 286,
   "metadata": {},
   "outputs": [],
   "source": [
    "# use PCA to almost flatten out the 169 covariance matrix (13x13) into 13 principal components\n",
    "from sklearn.decomposition import PCA\n",
    "\n",
    "pca_accuracy = [];\n",
    "\n",
    "def eval_PCA(model, K):\n",
    "\n",
    "    pca = PCA(n_components=K)\n",
    "    principal_components = pca.fit_transform(X_c)\n",
    "    pcaDf = pd.DataFrame(data = principal_components, columns = [['p'+str(i) for i in range(K)]])\n",
    "    \n",
    "    #recombine X_m\n",
    "    X_pca = pd.concat([X_m, pcaDf], axis=1)\n",
    "    # normalise\n",
    "    min_max_scaler = preprocessing.StandardScaler()\n",
    "    X_pca_scaled = min_max_scaler.fit_transform(X_pca)\n",
    "    X_pca_norm = pd.DataFrame(X_pca_scaled)\n",
    "\n",
    "    X_pca_norm.columns = X_pca.columns\n",
    "\n",
    "    # split into train and test data with separate labels:\n",
    "    X_train, X_test, y_train, y_test = train_test_split(X_pca_norm,y, test_size=0.1, random_state=420)\n",
    "    \n",
    "    log_regr.fit(X_train, y_train.values.ravel())\n",
    "    plot_learning_curve(model)\n",
    "    \n",
    "    pca_accuracy.append((K, model.score(X_test, y_test)))"
   ]
  },
  {
   "cell_type": "code",
   "execution_count": null,
   "metadata": {
    "scrolled": true
   },
   "outputs": [],
   "source": [
    "# evalute accuracy for range of K values\n",
    "for i in range(169):\n",
    "    eval_PCA(log_regr,i)"
   ]
  },
  {
   "cell_type": "code",
   "execution_count": 295,
   "metadata": {},
   "outputs": [
    {
     "data": {
      "text/plain": [
       "[(57, 0.77), (49, 0.75), (50, 0.75), (51, 0.75), (53, 0.75)]"
      ]
     },
     "execution_count": 295,
     "metadata": {},
     "output_type": "execute_result"
    }
   ],
   "source": [
    "sorted_pca_accuracy = sorted(pca_accuracy, key=lambda acc: acc[1], reverse=True)\n",
    "sorted_pca_accuracy[:5]"
   ]
  },
  {
   "cell_type": "code",
   "execution_count": 272,
   "metadata": {},
   "outputs": [
    {
     "data": {
      "text/plain": [
       "0.75"
      ]
     },
     "execution_count": 272,
     "metadata": {},
     "output_type": "execute_result"
    }
   ],
   "source": [
    "log_regr.score(X_test, y_test)"
   ]
  },
  {
   "cell_type": "markdown",
   "metadata": {},
   "source": [
    "It seems like reducing the number of features with PCA does not really help the accuracy of the model, as the best accuracy with PCA is 77% with 57 principal components (which is still worse than the 78% accuracy achieved previously)."
   ]
  },
  {
   "cell_type": "markdown",
   "metadata": {},
   "source": [
    "**Try using a Convolutional Neural Network model on this MFCC structured data**\n",
    "- Using Conv2D\n",
    "    - need to have features in a 2D array\n",
    "    \n",
    "    \n",
    "\n",
    "- This does not work well\n",
    "    - Usually deep learning techniques like CNNs are used for unstructured data like spectrograms. Therefore, the next notebook \"4-Models using Mel Spectrogram\" will dive into using the spectrograms of the audio samples to train a CNN.\n",
    "\n"
   ]
  },
  {
   "cell_type": "code",
   "execution_count": 155,
   "metadata": {},
   "outputs": [],
   "source": [
    "# convert features to 2d array 14x13\n",
    "X_2d_train = np.zeros(shape=(len(X_train), 14,13,1))\n",
    "for i in range(len(X_train)):\n",
    "    X_2d_train[i] = X_train.iloc[i].to_numpy().reshape(14,13,1)"
   ]
  },
  {
   "cell_type": "code",
   "execution_count": 156,
   "metadata": {},
   "outputs": [
    {
     "data": {
      "text/plain": [
       "(900, 14, 13, 1)"
      ]
     },
     "execution_count": 156,
     "metadata": {},
     "output_type": "execute_result"
    }
   ],
   "source": [
    "X_2d_train.shape"
   ]
  },
  {
   "cell_type": "code",
   "execution_count": 157,
   "metadata": {},
   "outputs": [
    {
     "name": "stdout",
     "output_type": "stream",
     "text": [
      "Epoch 1/10\n",
      "9/9 [==============================] - 1s 33ms/step - loss: -14.0793 - accuracy: 0.1010 - val_loss: -72.3828 - val_accuracy: 0.1000\n",
      "Epoch 2/10\n",
      "9/9 [==============================] - 0s 10ms/step - loss: -100.7195 - accuracy: 0.0907 - val_loss: -265.4739 - val_accuracy: 0.1000\n",
      "Epoch 3/10\n",
      "9/9 [==============================] - 0s 10ms/step - loss: -326.3871 - accuracy: 0.1062 - val_loss: -713.1882 - val_accuracy: 0.1000\n",
      "Epoch 4/10\n",
      "9/9 [==============================] - 0s 10ms/step - loss: -833.4907 - accuracy: 0.0914 - val_loss: -1633.7915 - val_accuracy: 0.1000\n",
      "Epoch 5/10\n",
      "9/9 [==============================] - 0s 9ms/step - loss: -1819.5851 - accuracy: 0.0965 - val_loss: -3366.5708 - val_accuracy: 0.1000\n",
      "Epoch 6/10\n",
      "9/9 [==============================] - 0s 10ms/step - loss: -3698.6303 - accuracy: 0.1053 - val_loss: -6408.0581 - val_accuracy: 0.1000\n",
      "Epoch 7/10\n",
      "9/9 [==============================] - 0s 10ms/step - loss: -6972.0616 - accuracy: 0.1053 - val_loss: -11436.4248 - val_accuracy: 0.1000\n",
      "Epoch 8/10\n",
      "9/9 [==============================] - 0s 10ms/step - loss: -11969.9450 - accuracy: 0.1008 - val_loss: -19400.7656 - val_accuracy: 0.1000\n",
      "Epoch 9/10\n",
      "9/9 [==============================] - 0s 10ms/step - loss: -20541.5984 - accuracy: 0.0968 - val_loss: -31459.9551 - val_accuracy: 0.1000\n",
      "Epoch 10/10\n",
      "9/9 [==============================] - 0s 10ms/step - loss: -33583.4938 - accuracy: 0.0881 - val_loss: -49080.6094 - val_accuracy: 0.1000\n"
     ]
    },
    {
     "data": {
      "text/plain": [
       "<tensorflow.python.keras.callbacks.History at 0x24da980b8b0>"
      ]
     },
     "execution_count": 157,
     "metadata": {},
     "output_type": "execute_result"
    }
   ],
   "source": [
    "model = Sequential()\n",
    "\n",
    "model.add(Conv2D(64, (3,3), input_shape = X_2d_train.shape[1:]))\n",
    "model.add(Activation(\"relu\"))\n",
    "model.add(MaxPooling2D(pool_size=(2,2)))\n",
    "\n",
    "model.add(Conv2D(64, (3,3)))\n",
    "model.add(Activation(\"relu\"))\n",
    "model.add(MaxPooling2D(pool_size=(2,2)))\n",
    "\n",
    "model.add(Flatten()) # as it was 2D, dense needs 1D\n",
    "model.add(Dense(64))\n",
    "\n",
    "model.add(Dense(1))\n",
    "model.add(Activation('sigmoid'))\n",
    "\n",
    "model.compile(loss=\"binary_crossentropy\",\n",
    "              optimizer=\"adam\",\n",
    "              metrics=['accuracy'])\n",
    "\n",
    "model.fit(X_2d_train, y_train, batch_size=100, epochs=10, validation_split=0.1)"
   ]
  },
  {
   "cell_type": "markdown",
   "metadata": {},
   "source": [
    "Using covariance matrix and mean matrix in CNN didn't seem to train well at all. Instead, I'll use the Mel spectogram (MFCC before carrying out DCT) as features (seen in CNN with spectrograms Notebook)."
   ]
  }
 ],
 "metadata": {
  "kernelspec": {
   "display_name": "Python 3",
   "language": "python",
   "name": "python3"
  },
  "language_info": {
   "codemirror_mode": {
    "name": "ipython",
    "version": 3
   },
   "file_extension": ".py",
   "mimetype": "text/x-python",
   "name": "python",
   "nbconvert_exporter": "python",
   "pygments_lexer": "ipython3",
   "version": "3.8.2"
  }
 },
 "nbformat": 4,
 "nbformat_minor": 4
}
