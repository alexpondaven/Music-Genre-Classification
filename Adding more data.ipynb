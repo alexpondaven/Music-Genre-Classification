{
 "cells": [
  {
   "cell_type": "markdown",
   "metadata": {},
   "source": [
    "**Adding more data**\n",
    "\n",
    "Some models that have been trained should be improved if more data was used (for example the logistic regression model that exhibited low bias as seen by its learning curve).\n",
    "\n",
    "Methods to adding data:\n",
    "\n",
    "- Could split audio samples into 5 (?) sections (6 seconds each) and find MFCC covariance matrix for each of them\n",
    "    - More sections can be taken, but if the sections are too small, performance may get worse.\n",
    "    - Sections of the audio sample could potentially overlap to recognise patterns between sections\n",
    "- Data Augmentation\n",
    "    - Could modify/change the samples somehow to artificially add training data"
   ]
  },
  {
   "cell_type": "code",
   "execution_count": null,
   "metadata": {},
   "outputs": [],
   "source": [
    "import numpy as np\n",
    "import pandas as pd\n",
    "import matplotlib.pyplot as plt\n",
    "from matplotlib import cm\n",
    "import seaborn as sns\n",
    "import math, random, pickle, os, operator\n",
    "from tempfile import TemporaryFile\n",
    "\n",
    "from scipy.io import wavfile\n",
    "from python_speech_features import mfcc\n",
    "%matplotlib inline"
   ]
  }
 ],
 "metadata": {
  "kernelspec": {
   "display_name": "Python 3",
   "language": "python",
   "name": "python3"
  },
  "language_info": {
   "codemirror_mode": {
    "name": "ipython",
    "version": 3
   },
   "file_extension": ".py",
   "mimetype": "text/x-python",
   "name": "python",
   "nbconvert_exporter": "python",
   "pygments_lexer": "ipython3",
   "version": "3.8.2"
  }
 },
 "nbformat": 4,
 "nbformat_minor": 4
}
