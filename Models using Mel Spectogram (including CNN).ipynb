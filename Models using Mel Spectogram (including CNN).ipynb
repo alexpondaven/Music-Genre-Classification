{
 "cells": [
  {
   "cell_type": "markdown",
   "metadata": {},
   "source": [
    "**Convolutional Neural Network using Mel Spectograms as features**\n",
    "\n",
    "In this notebook, the Librosa library is used to extract Mel Spectrograms (frequency against time) for each of the audio samples. These spectrograms are used as features to train models including a convolutional neural network."
   ]
  },
  {
   "cell_type": "code",
   "execution_count": 22,
   "metadata": {},
   "outputs": [],
   "source": [
    "import tensorflow as tf\n",
    "from tensorflow.keras.models import Sequential\n",
    "from tensorflow.keras.layers import Dense, Dropout, Activation, Flatten, Conv2D, MaxPooling2D, BatchNormalization\n",
    "from tensorflow.keras.utils import to_categorical\n",
    "\n",
    "from sklearn.model_selection import train_test_split\n",
    "from sklearn import preprocessing\n",
    "from sklearn.linear_model import LogisticRegression\n",
    "\n",
    "import numpy as np\n",
    "import pandas as pd\n",
    "\n",
    "import matplotlib.pyplot as plt\n",
    "from matplotlib import cm\n",
    "import seaborn as sns\n",
    "import math, random, pickle, os, operator\n",
    "from tempfile import TemporaryFile\n",
    "\n",
    "from scipy.io import wavfile\n",
    "from python_speech_features import mfcc\n",
    "import librosa\n",
    "import librosa.display\n",
    "\n",
    "%matplotlib inline"
   ]
  },
  {
   "cell_type": "code",
   "execution_count": 2,
   "metadata": {},
   "outputs": [
    {
     "name": "stdout",
     "output_type": "stream",
     "text": [
      "1 Physical GPUs, 1 Logical GPUs\n"
     ]
    }
   ],
   "source": [
    "## Use GPU support with Tensorflow\n",
    "# needed to prevent error from using too much gpu memory\n",
    "gpus = tf.config.experimental.list_physical_devices('GPU')\n",
    "if gpus:\n",
    "  try:\n",
    "    # Currently, memory growth needs to be the same across GPUs\n",
    "    for gpu in gpus:\n",
    "      tf.config.experimental.set_memory_growth(gpu, True)\n",
    "    logical_gpus = tf.config.experimental.list_logical_devices('GPU')\n",
    "    print(len(gpus), \"Physical GPUs,\", len(logical_gpus), \"Logical GPUs\")\n",
    "  except RuntimeError as e:\n",
    "    # Memory growth must be set before GPUs have been initialized\n",
    "    print(e)"
   ]
  },
  {
   "cell_type": "markdown",
   "metadata": {},
   "source": [
    "Load Data\n",
    "- Will use Librosa library this time to find Mel Spectograms of each audio sample"
   ]
  },
  {
   "cell_type": "code",
   "execution_count": 3,
   "metadata": {},
   "outputs": [
    {
     "data": {
      "text/plain": [
       "(128, 1293)"
      ]
     },
     "execution_count": 3,
     "metadata": {},
     "output_type": "execute_result"
    }
   ],
   "source": [
    "#Example spectogram from blues audio file\n",
    "t, rate = librosa.load(\"D:/Datasets/genres/blues/blues.00091.wav\") # returns sample rate and data (sig)\n",
    "spect = librosa.feature.melspectrogram(t, rate) # convert to melspectogram\n",
    "spect.shape"
   ]
  },
  {
   "cell_type": "code",
   "execution_count": 21,
   "metadata": {},
   "outputs": [
    {
     "data": {
      "image/png": "[encoded data removed]",
      "text/plain": [
       "<Figure size 1080x360 with 2 Axes>"
      ]
     },
     "metadata": {
      "needs_background": "light"
     },
     "output_type": "display_data"
    }
   ],
   "source": [
    "# Plotting Mel Spectrogram for an audio sample\n",
    "def draw_specs(spects):\n",
    "    for spect in spects:\n",
    "        fig, ax = plt.subplots(figsize=(15,5))\n",
    "        g = librosa.display.specshow(spect, x_axis='time', y_axis='log',ax=ax)\n",
    "        ax.set(title=\"Mel Spectrogram of Blues audio track (log scale on y axis)\")\n",
    "        fig.colorbar(g, ax=ax, format=\"%+2.f dB\")\n",
    "\n",
    "draw_specs([spect])"
   ]
  },
  {
   "cell_type": "code",
   "execution_count": 15,
   "metadata": {},
   "outputs": [],
   "source": [
    "# loading all spectrograms\n",
    "path  = \"D:/Datasets/genres/\"\n",
    "f = open(\"feat_spect.dat\",'wb')\n",
    "\n",
    "genre=0\n",
    "for fold in os.listdir(path):\n",
    "    genre+=1\n",
    "    if genre==11:\n",
    "        break\n",
    "    for file in os.listdir(path+fold):\n",
    "        # 29 second audio samples taken (length of shortest audio sample)\n",
    "        t, rate = librosa.load(path+fold+\"/\"+file, duration=5) # returns sample rate and data (sig)\n",
    "        spect = librosa.feature.melspectrogram(t, rate) # convert to melspectogram\n",
    "        feature = (spect, genre)\n",
    "        pickle.dump(feature, f)\n",
    "        \n",
    "#         mfcc_feat = mfcc(sig, rate, winlen=0.02, appendEnergy = False) # returns NUMFRAMES by 13 array)\n",
    "#         covariance = np.cov(np.matrix.transpose(mfcc_feat))\n",
    "#         mean_matrix = mfcc_feat.mean(0) # mean along column\n",
    "#         feature = (mean_matrix, covariance, genre)\n",
    "#         pickle.dump(feature, f)\n",
    "\n",
    "f.close()"
   ]
  },
  {
   "cell_type": "code",
   "execution_count": 16,
   "metadata": {},
   "outputs": [],
   "source": [
    "# loading data - could try converting ot pandas Dataframe instead\n",
    "dataset = []\n",
    "X_train = []\n",
    "y_train = []\n",
    "X_test = []\n",
    "y_test = []\n",
    "with open(\"feat_spect.dat\", 'rb') as f:\n",
    "    while True:\n",
    "        try:\n",
    "            dataset.append(pickle.load(f))\n",
    "        except EOFError:\n",
    "            f.close()\n",
    "            break\n",
    "\n",
    "# randomise dataset so that labels aren't just memorised when it encounters every example\n",
    "# with the same label, and then just memorise the next label for the next set\n",
    "random.shuffle(dataset)\n",
    "for x in range(len(dataset)):\n",
    "    if random.random() < 0.9:\n",
    "        X_train.append(dataset[x][0])\n",
    "        y_train.append(dataset[x][1])\n",
    "    else:\n",
    "        X_test.append(dataset[x][0])\n",
    "        y_test.append(dataset[x][1])\n",
    "\n"
   ]
  },
  {
   "cell_type": "code",
   "execution_count": null,
   "metadata": {},
   "outputs": [],
   "source": [
    "# Draw spectrograms for each dataset"
   ]
  },
  {
   "cell_type": "code",
   "execution_count": null,
   "metadata": {},
   "outputs": [],
   "source": []
  },
  {
   "cell_type": "code",
   "execution_count": null,
   "metadata": {},
   "outputs": [],
   "source": []
  },
  {
   "cell_type": "markdown",
   "metadata": {},
   "source": [
    "**Data Cleaning**"
   ]
  },
  {
   "cell_type": "code",
   "execution_count": 17,
   "metadata": {},
   "outputs": [],
   "source": [
    "# Convert to numpy arrays\n",
    "X_train = np.array(X_train)\n",
    "X_test = np.array(X_test)\n",
    "y_train = to_categorical(np.array([y-1 for y in y_train]))\n",
    "y_test = to_categorical(np.array([y-1 for y in y_test]))\n",
    "# Reshape for CNN\n",
    "X_train = X_train.reshape(X_train.shape[0], 128, X_train.shape[2], 1)\n",
    "X_test = X_test.reshape(X_test.shape[0], 128, X_train.shape[2], 1)\n",
    "# normalise\n",
    "X_train = X_train / 255.0\n",
    "X_test = X_test / 255.0\n",
    "# convert labels to categorical?"
   ]
  },
  {
   "cell_type": "code",
   "execution_count": 18,
   "metadata": {},
   "outputs": [
    {
     "data": {
      "text/plain": [
       "(917, 128, 216, 1)"
      ]
     },
     "execution_count": 18,
     "metadata": {},
     "output_type": "execute_result"
    }
   ],
   "source": [
    "X_train.shape"
   ]
  },
  {
   "cell_type": "code",
   "execution_count": 19,
   "metadata": {},
   "outputs": [
    {
     "data": {
      "text/plain": [
       "1000"
      ]
     },
     "execution_count": 19,
     "metadata": {},
     "output_type": "execute_result"
    }
   ],
   "source": [
    "len(dataset)"
   ]
  },
  {
   "cell_type": "markdown",
   "metadata": {},
   "source": [
    "**(Simpler) Logistic Regression Model**\n",
    "\n",
    "I will first try a logistic regression model to see how well it does."
   ]
  },
  {
   "cell_type": "code",
   "execution_count": 23,
   "metadata": {},
   "outputs": [],
   "source": [
    "logModel = LogisticRegression()\n"
   ]
  },
  {
   "cell_type": "code",
   "execution_count": null,
   "metadata": {},
   "outputs": [],
   "source": []
  },
  {
   "cell_type": "markdown",
   "metadata": {},
   "source": [
    "CNN\n"
   ]
  },
  {
   "cell_type": "code",
   "execution_count": 27,
   "metadata": {},
   "outputs": [
    {
     "name": "stdout",
     "output_type": "stream",
     "text": [
      "Epoch 1/10\n",
      "26/26 [==============================] - 1s 39ms/step - loss: 0.4443 - accuracy: 0.1680 - val_loss: 0.3075 - val_accuracy: 0.2308\n",
      "Epoch 2/10\n",
      "26/26 [==============================] - 1s 33ms/step - loss: 0.2592 - accuracy: 0.4439 - val_loss: 0.2869 - val_accuracy: 0.3297\n",
      "Epoch 3/10\n",
      "26/26 [==============================] - 1s 33ms/step - loss: 0.2010 - accuracy: 0.7163 - val_loss: 0.3090 - val_accuracy: 0.3077\n",
      "Epoch 4/10\n",
      "26/26 [==============================] - 1s 33ms/step - loss: 0.1552 - accuracy: 0.7715 - val_loss: 0.3119 - val_accuracy: 0.3516\n",
      "Epoch 5/10\n",
      "26/26 [==============================] - 1s 33ms/step - loss: 0.1181 - accuracy: 0.8547 - val_loss: 0.3380 - val_accuracy: 0.3956\n",
      "Epoch 6/10\n",
      "26/26 [==============================] - 1s 33ms/step - loss: 0.0841 - accuracy: 0.8914 - val_loss: 0.3920 - val_accuracy: 0.3846\n",
      "Epoch 7/10\n",
      "26/26 [==============================] - 1s 32ms/step - loss: 0.0683 - accuracy: 0.9141 - val_loss: 0.4204 - val_accuracy: 0.3736\n",
      "Epoch 8/10\n",
      "26/26 [==============================] - 1s 33ms/step - loss: 0.0539 - accuracy: 0.9367 - val_loss: 0.4593 - val_accuracy: 0.3407\n",
      "Epoch 9/10\n",
      "26/26 [==============================] - 1s 33ms/step - loss: 0.0429 - accuracy: 0.9562 - val_loss: 0.4981 - val_accuracy: 0.3516\n",
      "Epoch 10/10\n",
      "26/26 [==============================] - 1s 33ms/step - loss: 0.0406 - accuracy: 0.9595 - val_loss: 0.5717 - val_accuracy: 0.3736\n"
     ]
    },
    {
     "data": {
      "text/plain": [
       "<tensorflow.python.keras.callbacks.History at 0x24db02b3d60>"
      ]
     },
     "execution_count": 27,
     "metadata": {},
     "output_type": "execute_result"
    }
   ],
   "source": [
    "model = Sequential()\n",
    "\n",
    "model.add(Conv2D(64, (3,3), input_shape = X_train.shape[1:]))\n",
    "# model.add(BatchNormalization())\n",
    "model.add(Activation(\"relu\"))\n",
    "\n",
    "model.add(MaxPooling2D(pool_size=(2,2)))\n",
    "\n",
    "# model.add(Conv2D(64, (3,3)))\n",
    "# model.add(Activation(\"relu\"))\n",
    "# model.add(MaxPooling2D(pool_size=(2,2)))\n",
    "\n",
    "model.add(Flatten()) # as it was 2D, dense needs 1D\n",
    "# model.add(Dense(20))\n",
    "# model.add(Activation(\"relu\"))\n",
    "\n",
    "model.add(Dense(10))\n",
    "model.add(Activation('sigmoid'))\n",
    "\n",
    "model.compile(loss=\"binary_crossentropy\",\n",
    "              optimizer=\"adam\",\n",
    "              metrics=['accuracy'])\n",
    "\n",
    "model.fit(X_train, y_train, batch_size=32, epochs=10, validation_split = 0.1)"
   ]
  },
  {
   "cell_type": "markdown",
   "metadata": {},
   "source": [
    "Steps to solve overfitting:\n",
    "- Randomize data\n",
    "    - needed to randomize the order of labels, so that it doesn't just memorise one label, and then memorise the next one (overfitting)\n",
    "- Reduce number of features as there are only 1000 training examples\n",
    "    - Time of audio sample shortened to 5 seconds - resulted in slightly improved validation accuracy\n",
    "- Apply dropout layers\n",
    "- Reduce complexity of CNN\n",
    "- Add more training examples\n",
    "    - take more 5 second samples from each audio file\n",
    "    - adjust how long each audio sample is (how big the 2d feature array is)"
   ]
  },
  {
   "cell_type": "code",
   "execution_count": null,
   "metadata": {},
   "outputs": [],
   "source": []
  },
  {
   "cell_type": "code",
   "execution_count": null,
   "metadata": {},
   "outputs": [],
   "source": []
  }
 ],
 "metadata": {
  "kernelspec": {
   "display_name": "Python 3",
   "language": "python",
   "name": "python3"
  },
  "language_info": {
   "codemirror_mode": {
    "name": "ipython",
    "version": 3
   },
   "file_extension": ".py",
   "mimetype": "text/x-python",
   "name": "python",
   "nbconvert_exporter": "python",
   "pygments_lexer": "ipython3",
   "version": "3.8.2"
  }
 },
 "nbformat": 4,
 "nbformat_minor": 4
}
