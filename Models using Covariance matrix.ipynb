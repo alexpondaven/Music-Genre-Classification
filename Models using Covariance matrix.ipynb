{
 "cells": [
  {
   "cell_type": "markdown",
   "metadata": {},
   "source": [
    "**Training models on Covariance matrix and mean matrix of the MFCC of audio samples**\n",
    "\n",
    "The Covariance matrix and mean matrix was found in the Music Genre Classification Notebook, and will bw used to train several models here.\n",
    "\n",
    "Models:\n",
    "- Logistic Regression?\n",
    "- Convolutional Neural Network\n",
    "    - Did not work well using the covariance matrix, so the Mel Spectrogram was used in the \"Models using Mel Spectrogram\" notebook"
   ]
  },
  {
   "cell_type": "code",
   "execution_count": 67,
   "metadata": {},
   "outputs": [],
   "source": [
    "import tensorflow as tf\n",
    "from tensorflow.keras.models import Sequential\n",
    "from tensorflow.keras.layers import Dense, Dropout, Activation, Flatten, Conv2D, MaxPooling2D\n",
    "\n",
    "from sklearn.model_selection import train_test_split, validation_curve, learning_curve\n",
    "from sklearn import preprocessing\n",
    "from sklearn.linear_model import LogisticRegression,LogisticRegressionCV\n",
    "\n",
    "import numpy as np\n",
    "import pandas as pd\n",
    "\n",
    "import matplotlib.pyplot as plt\n",
    "from matplotlib import cm\n",
    "import seaborn as sns\n",
    "import math, random, pickle, os, operator\n",
    "from tempfile import TemporaryFile\n",
    "\n",
    "from scipy.io import wavfile\n",
    "from python_speech_features import mfcc\n",
    "%matplotlib inline"
   ]
  },
  {
   "cell_type": "code",
   "execution_count": 2,
   "metadata": {},
   "outputs": [
    {
     "name": "stdout",
     "output_type": "stream",
     "text": [
      "1 Physical GPUs, 1 Logical GPUs\n"
     ]
    }
   ],
   "source": [
    "## Use GPU support\n",
    "# needed to prevent error from using too much gpu memory\n",
    "gpus = tf.config.experimental.list_physical_devices('GPU')\n",
    "if gpus:\n",
    "  try:\n",
    "    # Currently, memory growth needs to be the same across GPUs\n",
    "    for gpu in gpus:\n",
    "      tf.config.experimental.set_memory_growth(gpu, True)\n",
    "    logical_gpus = tf.config.experimental.list_logical_devices('GPU')\n",
    "    print(len(gpus), \"Physical GPUs,\", len(logical_gpus), \"Logical GPUs\")\n",
    "  except RuntimeError as e:\n",
    "    # Memory growth must be set before GPUs have been initialized\n",
    "    print(e)"
   ]
  },
  {
   "cell_type": "markdown",
   "metadata": {},
   "source": [
    "Load Data"
   ]
  },
  {
   "cell_type": "code",
   "execution_count": 3,
   "metadata": {},
   "outputs": [],
   "source": [
    "# loading data - could try converting to pandas Dataframe instead\n",
    "dataset = []\n",
    "train = []\n",
    "test = []\n",
    "with open(\"feat.dat\", 'rb') as f:\n",
    "    while True:\n",
    "        try:\n",
    "            dataset.append(pickle.load(f))\n",
    "        except EOFError:\n",
    "            f.close()\n",
    "            break\n",
    "    \n"
   ]
  },
  {
   "cell_type": "code",
   "execution_count": 4,
   "metadata": {},
   "outputs": [],
   "source": [
    "# convert data to Pandas DataFrame\n",
    "flattened = []\n",
    "for x in dataset:   \n",
    "    flattened.append(list(x[0]) + list(x[1].flatten()) + [x[2]])\n",
    "\n",
    "cols = [['m' +str(i) for i in range(13)]+['c'+str(i) for i in range(169)]+[\"Genre\"]]\n",
    "df = pd.DataFrame(flattened, columns=cols)\n",
    "    "
   ]
  },
  {
   "cell_type": "code",
   "execution_count": 5,
   "metadata": {},
   "outputs": [
    {
     "data": {
      "text/html": [
       "<div>\n",
       "<style scoped>\n",
       "    .dataframe tbody tr th:only-of-type {\n",
       "        vertical-align: middle;\n",
       "    }\n",
       "\n",
       "    .dataframe tbody tr th {\n",
       "        vertical-align: top;\n",
       "    }\n",
       "\n",
       "    .dataframe thead tr th {\n",
       "        text-align: left;\n",
       "    }\n",
       "</style>\n",
       "<table border=\"1\" class=\"dataframe\">\n",
       "  <thead>\n",
       "    <tr>\n",
       "      <th></th>\n",
       "      <th>m0</th>\n",
       "      <th>m1</th>\n",
       "      <th>m2</th>\n",
       "      <th>m3</th>\n",
       "      <th>m4</th>\n",
       "      <th>m5</th>\n",
       "      <th>m6</th>\n",
       "      <th>m7</th>\n",
       "      <th>m8</th>\n",
       "      <th>m9</th>\n",
       "      <th>...</th>\n",
       "      <th>c160</th>\n",
       "      <th>c161</th>\n",
       "      <th>c162</th>\n",
       "      <th>c163</th>\n",
       "      <th>c164</th>\n",
       "      <th>c165</th>\n",
       "      <th>c166</th>\n",
       "      <th>c167</th>\n",
       "      <th>c168</th>\n",
       "      <th>Genre</th>\n",
       "    </tr>\n",
       "  </thead>\n",
       "  <tbody>\n",
       "    <tr>\n",
       "      <th>0</th>\n",
       "      <td>76.502611</td>\n",
       "      <td>-1.961417</td>\n",
       "      <td>-15.774347</td>\n",
       "      <td>3.831419</td>\n",
       "      <td>-10.473326</td>\n",
       "      <td>1.311828</td>\n",
       "      <td>-19.393732</td>\n",
       "      <td>5.286790</td>\n",
       "      <td>-16.631725</td>\n",
       "      <td>5.353444</td>\n",
       "      <td>...</td>\n",
       "      <td>3.786696</td>\n",
       "      <td>-0.021175</td>\n",
       "      <td>-14.523117</td>\n",
       "      <td>-12.995331</td>\n",
       "      <td>-3.843489</td>\n",
       "      <td>-14.831619</td>\n",
       "      <td>2.251195</td>\n",
       "      <td>29.282607</td>\n",
       "      <td>64.650762</td>\n",
       "      <td>1</td>\n",
       "    </tr>\n",
       "    <tr>\n",
       "      <th>1</th>\n",
       "      <td>66.931650</td>\n",
       "      <td>0.718853</td>\n",
       "      <td>-3.267830</td>\n",
       "      <td>4.181200</td>\n",
       "      <td>-8.050941</td>\n",
       "      <td>6.448259</td>\n",
       "      <td>-17.768517</td>\n",
       "      <td>14.091810</td>\n",
       "      <td>-18.332536</td>\n",
       "      <td>3.685560</td>\n",
       "      <td>...</td>\n",
       "      <td>-16.026806</td>\n",
       "      <td>-13.013754</td>\n",
       "      <td>18.476615</td>\n",
       "      <td>11.603178</td>\n",
       "      <td>-3.788941</td>\n",
       "      <td>-17.738734</td>\n",
       "      <td>-8.665845</td>\n",
       "      <td>18.410328</td>\n",
       "      <td>90.762876</td>\n",
       "      <td>1</td>\n",
       "    </tr>\n",
       "    <tr>\n",
       "      <th>2</th>\n",
       "      <td>78.774103</td>\n",
       "      <td>3.039700</td>\n",
       "      <td>-19.024435</td>\n",
       "      <td>-0.983591</td>\n",
       "      <td>-14.699337</td>\n",
       "      <td>7.586562</td>\n",
       "      <td>-12.823053</td>\n",
       "      <td>1.892920</td>\n",
       "      <td>-14.865326</td>\n",
       "      <td>3.595252</td>\n",
       "      <td>...</td>\n",
       "      <td>-18.087720</td>\n",
       "      <td>-6.627783</td>\n",
       "      <td>-2.016122</td>\n",
       "      <td>-12.890326</td>\n",
       "      <td>-3.702126</td>\n",
       "      <td>-3.862404</td>\n",
       "      <td>0.221521</td>\n",
       "      <td>-9.624113</td>\n",
       "      <td>83.777252</td>\n",
       "      <td>1</td>\n",
       "    </tr>\n",
       "    <tr>\n",
       "      <th>3</th>\n",
       "      <td>66.696107</td>\n",
       "      <td>9.211514</td>\n",
       "      <td>-4.532876</td>\n",
       "      <td>5.027148</td>\n",
       "      <td>-8.254011</td>\n",
       "      <td>8.101201</td>\n",
       "      <td>-9.676610</td>\n",
       "      <td>9.824043</td>\n",
       "      <td>-6.735213</td>\n",
       "      <td>10.332956</td>\n",
       "      <td>...</td>\n",
       "      <td>-21.272778</td>\n",
       "      <td>-13.864303</td>\n",
       "      <td>13.764830</td>\n",
       "      <td>4.091590</td>\n",
       "      <td>-5.564044</td>\n",
       "      <td>-11.718776</td>\n",
       "      <td>-10.097750</td>\n",
       "      <td>4.902070</td>\n",
       "      <td>69.758813</td>\n",
       "      <td>1</td>\n",
       "    </tr>\n",
       "    <tr>\n",
       "      <th>4</th>\n",
       "      <td>71.972846</td>\n",
       "      <td>0.506410</td>\n",
       "      <td>-23.834838</td>\n",
       "      <td>-2.181944</td>\n",
       "      <td>-29.875498</td>\n",
       "      <td>0.719521</td>\n",
       "      <td>-19.039014</td>\n",
       "      <td>-1.353935</td>\n",
       "      <td>-13.370416</td>\n",
       "      <td>5.069944</td>\n",
       "      <td>...</td>\n",
       "      <td>-15.531564</td>\n",
       "      <td>9.558282</td>\n",
       "      <td>14.068872</td>\n",
       "      <td>-4.271712</td>\n",
       "      <td>-29.419962</td>\n",
       "      <td>13.653176</td>\n",
       "      <td>6.385477</td>\n",
       "      <td>7.264809</td>\n",
       "      <td>102.319498</td>\n",
       "      <td>1</td>\n",
       "    </tr>\n",
       "  </tbody>\n",
       "</table>\n",
       "<p>5 rows × 183 columns</p>\n",
       "</div>"
      ],
      "text/plain": [
       "          m0        m1         m2        m3         m4        m5         m6  \\\n",
       "0  76.502611 -1.961417 -15.774347  3.831419 -10.473326  1.311828 -19.393732   \n",
       "1  66.931650  0.718853  -3.267830  4.181200  -8.050941  6.448259 -17.768517   \n",
       "2  78.774103  3.039700 -19.024435 -0.983591 -14.699337  7.586562 -12.823053   \n",
       "3  66.696107  9.211514  -4.532876  5.027148  -8.254011  8.101201  -9.676610   \n",
       "4  71.972846  0.506410 -23.834838 -2.181944 -29.875498  0.719521 -19.039014   \n",
       "\n",
       "          m7         m8         m9  ...       c160       c161       c162  \\\n",
       "0   5.286790 -16.631725   5.353444  ...   3.786696  -0.021175 -14.523117   \n",
       "1  14.091810 -18.332536   3.685560  ... -16.026806 -13.013754  18.476615   \n",
       "2   1.892920 -14.865326   3.595252  ... -18.087720  -6.627783  -2.016122   \n",
       "3   9.824043  -6.735213  10.332956  ... -21.272778 -13.864303  13.764830   \n",
       "4  -1.353935 -13.370416   5.069944  ... -15.531564   9.558282  14.068872   \n",
       "\n",
       "        c163       c164       c165       c166       c167        c168 Genre  \n",
       "0 -12.995331  -3.843489 -14.831619   2.251195  29.282607   64.650762     1  \n",
       "1  11.603178  -3.788941 -17.738734  -8.665845  18.410328   90.762876     1  \n",
       "2 -12.890326  -3.702126  -3.862404   0.221521  -9.624113   83.777252     1  \n",
       "3   4.091590  -5.564044 -11.718776 -10.097750   4.902070   69.758813     1  \n",
       "4  -4.271712 -29.419962  13.653176   6.385477   7.264809  102.319498     1  \n",
       "\n",
       "[5 rows x 183 columns]"
      ]
     },
     "execution_count": 5,
     "metadata": {},
     "output_type": "execute_result"
    }
   ],
   "source": [
    "df.head()\n"
   ]
  },
  {
   "cell_type": "markdown",
   "metadata": {},
   "source": [
    "The model now has 183 features and 1000 training examples\n",
    "- 13 - mean for each cepstral coefficient\n",
    "- 169 - elements of 13x13 covariance matrix\n",
    "- 1 - genre label (1-10)"
   ]
  },
  {
   "cell_type": "markdown",
   "metadata": {},
   "source": [
    "**FEATURE ANALYSIS**\n",
    "\n",
    "Ideas:\n",
    "- Split data into training and test data (and randomize)\n",
    "- normalise values"
   ]
  },
  {
   "cell_type": "code",
   "execution_count": 84,
   "metadata": {},
   "outputs": [],
   "source": [
    "# split into train and test data with separate labels:\n",
    "X_train, X_test, y_train, y_test = train_test_split(df.iloc[:,:-1],df[[\"Genre\"]], test_size=0.1, random_state=420)"
   ]
  },
  {
   "cell_type": "code",
   "execution_count": 87,
   "metadata": {},
   "outputs": [],
   "source": [
    "# normalisation\n",
    "# min and max processor\n",
    "min_max_scaler = preprocessing.MinMaxScaler()\n",
    "train_scaled = min_max_scaler.fit_transform(X_train)\n",
    "test_scaled = min_max_scaler.fit_transform(X_test)\n",
    "# apply normalizer\n",
    "X_trainn = pd.DataFrame(train_scaled)\n",
    "X_testn = pd.DataFrame(test_scaled)\n",
    "\n",
    "X_trainn.columns = X_train.columns\n",
    "X_testn.columns = X_test.columns\n"
   ]
  },
  {
   "cell_type": "markdown",
   "metadata": {},
   "source": [
    "<strong>Models</strong>\n",
    "\n",
    "**Logistic Regression**\n",
    "- Accuracy of 65% using:\n",
    "LogisticRegression(random_state=2, solver='lbfgs', multi_class='ovr', max_iter=8000)\n"
   ]
  },
  {
   "cell_type": "code",
   "execution_count": 112,
   "metadata": {},
   "outputs": [
    {
     "data": {
      "text/plain": [
       "LogisticRegression(max_iter=1000, multi_class='ovr', random_state=2)"
      ]
     },
     "execution_count": 112,
     "metadata": {},
     "output_type": "execute_result"
    }
   ],
   "source": [
    "# Create and fit model\n",
    "linRegr = LogisticRegression(random_state=2, solver='lbfgs', multi_class='ovr', max_iter=1000)\n",
    "linRegr.fit(X_trainn, y_train.values.ravel())"
   ]
  },
  {
   "cell_type": "code",
   "execution_count": 124,
   "metadata": {},
   "outputs": [],
   "source": [
    "# Using validation curve\n",
    "train_sizes, train_scores, valid_scores = learning_curve(linRegr, X_trainn, y_train.values.ravel(),\n",
    "                                                        train_sizes=np.linspace(150,700,50, dtype=int),cv=5,\n",
    "                                                        scoring = 'neg_mean_squared_error')"
   ]
  },
  {
   "cell_type": "code",
   "execution_count": 125,
   "metadata": {},
   "outputs": [],
   "source": [
    "train_scores_mean = -train_scores.mean(axis=1)\n",
    "valid_scores_mean =-valid_scores.mean(axis=1)"
   ]
  },
  {
   "cell_type": "code",
   "execution_count": 126,
   "metadata": {},
   "outputs": [
    {
     "data": {
      "text/plain": [
       "array([2.82133333, 2.69565217, 2.72209302, 2.83606557, 3.04226804,\n",
       "       3.26213592, 2.88940092, 3.31403509, 3.08953975, 3.41434263,\n",
       "       3.08167939, 2.9047619 , 3.09577465, 3.35322034, 3.76872964,\n",
       "       4.02955975, 4.09544073, 3.91588235, 4.12329545, 4.0738292 ,\n",
       "       4.10748663, 4.33766234, 4.24444444, 4.19460784, 4.43054893,\n",
       "       4.33767442, 4.13514739, 4.22825607, 4.46724138, 4.36715789,\n",
       "       4.39917695, 4.30462777, 4.48565815, 4.52461538, 4.42259887,\n",
       "       4.48228782, 4.56245487, 4.44035398, 4.53090278, 4.38126065,\n",
       "       4.32675585, 4.29672131, 4.26344605, 4.36234177, 4.35738725,\n",
       "       4.30778626, 4.26126126, 4.44549483, 4.35872093, 4.34457143])"
      ]
     },
     "execution_count": 126,
     "metadata": {},
     "output_type": "execute_result"
    }
   ],
   "source": [
    "train_scores_mean"
   ]
  },
  {
   "cell_type": "code",
   "execution_count": 127,
   "metadata": {},
   "outputs": [
    {
     "data": {
      "text/plain": [
       "<matplotlib.legend.Legend at 0x27ab2c3a940>"
      ]
     },
     "execution_count": 127,
     "metadata": {},
     "output_type": "execute_result"
    },
    {
     "data": {
      "image/png": "[encoded data removed]",
      "text/plain": [
       "<Figure size 432x288 with 1 Axes>"
      ]
     },
     "metadata": {
      "needs_background": "light"
     },
     "output_type": "display_data"
    }
   ],
   "source": [
    "# plot learning curves\n",
    "plt.plot(train_sizes, train_scores_mean, label = \"Training error\")\n",
    "plt.plot(train_sizes, valid_scores_mean, label = \"Validation error\")\n",
    "plt.xlabel(\"Training size\")\n",
    "plt.ylabel(\"MSE\")\n",
    "plt.title(\"Learning Curve Logistic Regression Model\")\n",
    "plt.legend()\n",
    "\n"
   ]
  },
  {
   "cell_type": "markdown",
   "metadata": {},
   "source": [
    "From the learning curve above, it is apparent that more training data would help the validation curve converge towards the training curve and decrease error. This is done in the \"Adding more data\" notebook."
   ]
  },
  {
   "cell_type": "code",
   "execution_count": null,
   "metadata": {},
   "outputs": [],
   "source": [
    "# Add more data"
   ]
  },
  {
   "cell_type": "code",
   "execution_count": null,
   "metadata": {},
   "outputs": [],
   "source": []
  },
  {
   "cell_type": "code",
   "execution_count": null,
   "metadata": {},
   "outputs": [],
   "source": []
  },
  {
   "cell_type": "code",
   "execution_count": 128,
   "metadata": {},
   "outputs": [],
   "source": [
    "# Predict\n",
    "def accuracy(model):\n",
    "    pred = model.predict(X_testn)\n",
    "    return round(sum(y_test.values.ravel() == pred) / len(y_test), 6)"
   ]
  },
  {
   "cell_type": "code",
   "execution_count": 129,
   "metadata": {},
   "outputs": [
    {
     "name": "stdout",
     "output_type": "stream",
     "text": [
      "Logistic Regression Model Accuracy:  0.65\n"
     ]
    }
   ],
   "source": [
    "# Accuracy of logistic Regression model\n",
    "print(\"Logistic Regression Model Accuracy: \", accuracy(linRegr))"
   ]
  },
  {
   "cell_type": "code",
   "execution_count": 130,
   "metadata": {},
   "outputs": [
    {
     "data": {
      "text/plain": [
       "0.65"
      ]
     },
     "execution_count": 130,
     "metadata": {},
     "output_type": "execute_result"
    }
   ],
   "source": [
    "linRegr.score(X_testn, y_test)"
   ]
  },
  {
   "cell_type": "markdown",
   "metadata": {},
   "source": [
    "**Define Convolutional Neural Network model**\n",
    "- Using Conv2D\n",
    "    - need to have features in a 2D array\n",
    "        - can append \n",
    "\n"
   ]
  },
  {
   "cell_type": "code",
   "execution_count": 230,
   "metadata": {},
   "outputs": [],
   "source": [
    "# convert features to 2d array 14x13\n",
    "X_2d_train = np.zeros(shape=(len(X_trainn), 14,13,1))\n",
    "for i in range(len(X_trainn)):\n",
    "    X_2d_train[i] = X_trainn.iloc[i].to_numpy().reshape(14,13,1)"
   ]
  },
  {
   "cell_type": "code",
   "execution_count": 231,
   "metadata": {},
   "outputs": [
    {
     "data": {
      "text/plain": [
       "(670, 14, 13, 1)"
      ]
     },
     "execution_count": 231,
     "metadata": {},
     "output_type": "execute_result"
    }
   ],
   "source": [
    "X_2d_train.shape"
   ]
  },
  {
   "cell_type": "code",
   "execution_count": 238,
   "metadata": {},
   "outputs": [
    {
     "name": "stdout",
     "output_type": "stream",
     "text": [
      "Epoch 1/10\n",
      "7/7 [==============================] - 1s 39ms/step - loss: -2.2533 - accuracy: 0.1191 - val_loss: -11.9623 - val_accuracy: 0.0896\n",
      "Epoch 2/10\n",
      "7/7 [==============================] - 0s 11ms/step - loss: -17.2277 - accuracy: 0.1150 - val_loss: -43.8314 - val_accuracy: 0.0896\n",
      "Epoch 3/10\n",
      "7/7 [==============================] - 0s 11ms/step - loss: -58.1811 - accuracy: 0.1138 - val_loss: -122.0686 - val_accuracy: 0.0896\n",
      "Epoch 4/10\n",
      "7/7 [==============================] - 0s 12ms/step - loss: -151.0897 - accuracy: 0.1250 - val_loss: -292.3506 - val_accuracy: 0.0896\n",
      "Epoch 5/10\n",
      "7/7 [==============================] - 0s 11ms/step - loss: -364.5027 - accuracy: 0.1108 - val_loss: -627.5779 - val_accuracy: 0.0896\n",
      "Epoch 6/10\n",
      "7/7 [==============================] - 0s 11ms/step - loss: -741.1276 - accuracy: 0.1195 - val_loss: -1237.5494 - val_accuracy: 0.0896\n",
      "Epoch 7/10\n",
      "7/7 [==============================] - 0s 11ms/step - loss: -1444.7733 - accuracy: 0.1139 - val_loss: -2262.9272 - val_accuracy: 0.0896\n",
      "Epoch 8/10\n",
      "7/7 [==============================] - 0s 11ms/step - loss: -2570.9984 - accuracy: 0.1087 - val_loss: -3855.9077 - val_accuracy: 0.0896\n",
      "Epoch 9/10\n",
      "7/7 [==============================] - 0s 11ms/step - loss: -4554.1326 - accuracy: 0.1065 - val_loss: -6364.4453 - val_accuracy: 0.0896\n",
      "Epoch 10/10\n",
      "7/7 [==============================] - 0s 11ms/step - loss: -7146.2875 - accuracy: 0.1099 - val_loss: -10059.0996 - val_accuracy: 0.0896\n"
     ]
    },
    {
     "data": {
      "text/plain": [
       "<tensorflow.python.keras.callbacks.History at 0x206edbdf1c0>"
      ]
     },
     "execution_count": 238,
     "metadata": {},
     "output_type": "execute_result"
    }
   ],
   "source": [
    "model = Sequential()\n",
    "\n",
    "model.add(Conv2D(64, (3,3), input_shape = X_2d_train.shape[1:]))\n",
    "model.add(Activation(\"relu\"))\n",
    "model.add(MaxPooling2D(pool_size=(2,2)))\n",
    "\n",
    "model.add(Conv2D(64, (3,3)))\n",
    "model.add(Activation(\"relu\"))\n",
    "model.add(MaxPooling2D(pool_size=(2,2)))\n",
    "\n",
    "model.add(Flatten()) # as it was 2D, dense needs 1D\n",
    "model.add(Dense(64))\n",
    "\n",
    "model.add(Dense(1))\n",
    "model.add(Activation('sigmoid'))\n",
    "\n",
    "model.compile(loss=\"binary_crossentropy\",\n",
    "              optimizer=\"adam\",\n",
    "              metrics=['accuracy'])\n",
    "\n",
    "model.fit(X_2d_train, y_train, batch_size=100, epochs=10, validation_split=0.1)"
   ]
  },
  {
   "cell_type": "markdown",
   "metadata": {},
   "source": [
    "Using covariance matrix and mean matrix in CNN didn't seem to train well at all. Instead, I'll use the Mel spectogram (MFCC before carrying out DCT) as features (seen in CNN with spectrograms Notebook).\n",
    "Otherwise, I could use a different model for the mel coefficients like logistic regression, multiclass SVMs and K-means clustering."
   ]
  },
  {
   "cell_type": "code",
   "execution_count": 197,
   "metadata": {},
   "outputs": [
    {
     "data": {
      "text/plain": [
       "(670, 182)"
      ]
     },
     "execution_count": 197,
     "metadata": {},
     "output_type": "execute_result"
    }
   ],
   "source": [
    "X_train.shape"
   ]
  },
  {
   "cell_type": "code",
   "execution_count": 204,
   "metadata": {},
   "outputs": [
    {
     "name": "stderr",
     "output_type": "stream",
     "text": [
      "<ipython-input-204-2982848bd061>:1: VisibleDeprecationWarning: Creating an ndarray from ragged nested sequences (which is a list-or-tuple of lists-or-tuples-or ndarrays with different lengths or shapes) is deprecated. If you meant to do this, you must specify 'dtype=object' when creating the ndarray\n",
      "  np.array(dataset).shape\n"
     ]
    },
    {
     "data": {
      "text/plain": [
       "(1000, 3)"
      ]
     },
     "execution_count": 204,
     "metadata": {},
     "output_type": "execute_result"
    }
   ],
   "source": [
    "np.array(dataset).shape"
   ]
  },
  {
   "cell_type": "code",
   "execution_count": 207,
   "metadata": {},
   "outputs": [
    {
     "data": {
      "text/plain": [
       "(array([ 76.50261107,  -1.96141736, -15.7743469 ,   3.8314189 ,\n",
       "        -10.47332553,   1.31182833, -19.39373183,   5.28678994,\n",
       "        -16.63172467,   5.3534445 ,  -9.85657026,   6.25007663,\n",
       "         -5.58749505]),\n",
       " array([[ 3.13643266e+01, -1.34683421e+00, -9.48272203e-01,\n",
       "         -2.05382281e+01, -1.45847814e+01, -1.72347943e+01,\n",
       "         -9.35145739e+00,  2.72034545e+00, -3.29035455e+00,\n",
       "          1.04057336e+00,  2.32513168e+00,  6.09119695e+00,\n",
       "          8.44732834e+00],\n",
       "        [-1.34683421e+00,  3.64751586e+01, -2.19100677e+01,\n",
       "         -1.52506981e+01, -7.71247217e+00, -1.42477860e+01,\n",
       "         -6.48177523e+00,  3.95463925e+00,  1.14509487e+00,\n",
       "         -4.30576920e+00,  9.05817993e+00,  8.98145706e+00,\n",
       "          7.68495192e+00],\n",
       "        [-9.48272203e-01, -2.19100677e+01,  7.63578328e+01,\n",
       "          1.69425823e+01, -2.67611115e+01, -2.71149039e+00,\n",
       "          1.99049253e+01,  1.64116110e+01, -1.31355709e+01,\n",
       "          1.53609455e+01, -1.31293962e+01, -7.47897696e+00,\n",
       "         -1.43408653e+01],\n",
       "        [-2.05382281e+01, -1.52506981e+01,  1.69425823e+01,\n",
       "          8.81632650e+01,  4.12699446e+01,  3.87264439e+01,\n",
       "          4.90998334e+00, -2.16976433e+01,  1.60594008e+01,\n",
       "         -1.25872911e+01, -1.02448062e+01, -1.43945987e+01,\n",
       "         -6.84916335e+00],\n",
       "        [-1.45847814e+01, -7.71247217e+00, -2.67611115e+01,\n",
       "          4.12699446e+01,  1.19321523e+02,  4.66003407e+01,\n",
       "         -1.92208642e+01, -3.94618140e+01,  1.66051267e+01,\n",
       "         -1.69172614e+01, -8.78168305e+00, -5.58281414e+00,\n",
       "          3.78669608e+00],\n",
       "        [-1.72347943e+01, -1.42477860e+01, -2.71149039e+00,\n",
       "          3.87264439e+01,  4.66003407e+01,  9.60482987e+01,\n",
       "          8.98961628e+00, -3.43591422e+01,  1.84438295e+01,\n",
       "         -8.45766070e+00, -5.85733348e+00, -5.44735154e+00,\n",
       "         -2.11745850e-02],\n",
       "        [-9.35145739e+00, -6.48177523e+00,  1.99049253e+01,\n",
       "          4.90998334e+00, -1.92208642e+01,  8.98961628e+00,\n",
       "          8.63132389e+01,  4.28379412e+01,  1.75222620e+01,\n",
       "         -1.04685593e+01, -2.84250646e-01, -1.20036343e+01,\n",
       "         -1.45231172e+01],\n",
       "        [ 2.72034545e+00,  3.95463925e+00,  1.64116110e+01,\n",
       "         -2.16976433e+01, -3.94618140e+01, -3.43591422e+01,\n",
       "          4.28379412e+01,  1.22790755e+02,  2.20687087e+01,\n",
       "          1.45781380e+00, -1.27295942e+01,  4.03984963e+00,\n",
       "         -1.29953309e+01],\n",
       "        [-3.29035455e+00,  1.14509487e+00, -1.31355709e+01,\n",
       "          1.60594008e+01,  1.66051267e+01,  1.84438295e+01,\n",
       "          1.75222620e+01,  2.20687087e+01,  1.09824146e+02,\n",
       "          3.38342116e+00, -1.36512426e+01, -2.12526426e+01,\n",
       "         -3.84348934e+00],\n",
       "        [ 1.04057336e+00, -4.30576920e+00,  1.53609455e+01,\n",
       "         -1.25872911e+01, -1.69172614e+01, -8.45766070e+00,\n",
       "         -1.04685593e+01,  1.45781380e+00,  3.38342116e+00,\n",
       "          9.94008340e+01,  2.47510682e+01, -1.43565213e+01,\n",
       "         -1.48316190e+01],\n",
       "        [ 2.32513168e+00,  9.05817993e+00, -1.31293962e+01,\n",
       "         -1.02448062e+01, -8.78168305e+00, -5.85733348e+00,\n",
       "         -2.84250646e-01, -1.27295942e+01, -1.36512426e+01,\n",
       "          2.47510682e+01,  7.78045086e+01,  2.89174482e+01,\n",
       "          2.25119526e+00],\n",
       "        [ 6.09119695e+00,  8.98145706e+00, -7.47897696e+00,\n",
       "         -1.43945987e+01, -5.58281414e+00, -5.44735154e+00,\n",
       "         -1.20036343e+01,  4.03984963e+00, -2.12526426e+01,\n",
       "         -1.43565213e+01,  2.89174482e+01,  9.23654698e+01,\n",
       "          2.92826066e+01],\n",
       "        [ 8.44732834e+00,  7.68495192e+00, -1.43408653e+01,\n",
       "         -6.84916335e+00,  3.78669608e+00, -2.11745850e-02,\n",
       "         -1.45231172e+01, -1.29953309e+01, -3.84348934e+00,\n",
       "         -1.48316190e+01,  2.25119526e+00,  2.92826066e+01,\n",
       "          6.46507617e+01]]),\n",
       " 1)"
      ]
     },
     "execution_count": 207,
     "metadata": {},
     "output_type": "execute_result"
    }
   ],
   "source": []
  },
  {
   "cell_type": "code",
   "execution_count": null,
   "metadata": {},
   "outputs": [],
   "source": []
  }
 ],
 "metadata": {
  "kernelspec": {
   "display_name": "Python 3",
   "language": "python",
   "name": "python3"
  },
  "language_info": {
   "codemirror_mode": {
    "name": "ipython",
    "version": 3
   },
   "file_extension": ".py",
   "mimetype": "text/x-python",
   "name": "python",
   "nbconvert_exporter": "python",
   "pygments_lexer": "ipython3",
   "version": "3.8.2"
  }
 },
 "nbformat": 4,
 "nbformat_minor": 4
}
