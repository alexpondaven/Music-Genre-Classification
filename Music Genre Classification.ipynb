{
 "cells": [
  {
   "cell_type": "markdown",
   "metadata": {},
   "source": [
    "**MUSIC CLASSIFICATION**\n",
    "\n",
    "This project will seek to train models that predicts the genre of music.\n",
    "\n",
    "The GTZAN genre classification datasets was used to obtain audio samples with similar size and frequency range.\n",
    "- 1000 audio samples\n",
    "- 30 seconds each\n",
    "\n",
    "Dataset: http://marsyas.info/downloads/datasets.html\n",
    "\n",
    "**10 Music Genres:**\n",
    "- Blues\n",
    "- Classical\n",
    "- Country\n",
    "- Disco\n",
    "- Hiphop\n",
    "- Jazz\n",
    "- Metal\n",
    "- Pop\n",
    "- Reggae\n",
    "- Rock\n",
    "\n",
    "**Models**\n",
    "- Start with K-nearest neighbour\n",
    "- Conv Neural Network\n",
    "\n",
    "\n",
    "NOTE:\n",
    "This notebook's content is mainly taken from https://data-flair.training/blogs/python-project-music-genre-classification/ and serves more as a starting point for this project!"
   ]
  },
  {
   "cell_type": "code",
   "execution_count": 2,
   "metadata": {},
   "outputs": [],
   "source": [
    "import numpy as np\n",
    "import pandas as pd\n",
    "import matplotlib.pyplot as plt\n",
    "import seaborn as sns\n",
    "import math, random, pickle, os, operator\n",
    "from tempfile import TemporaryFile\n",
    "\n",
    "from scipy.io import wavfile\n",
    "from python_speech_features import mfcc\n",
    "%matplotlib inline"
   ]
  },
  {
   "cell_type": "markdown",
   "metadata": {},
   "source": [
    "**Feature Extraction**\n",
    "\n",
    "MFCC (Mel Frequency Cepstral Coefficients):\n",
    "- cepstrum reprsents information on the rate of change in spectral bands\n",
    "    - spectrum of the log of frequency spectrum of time signal\n",
    "- relates perceived frequency of tone to actual measured frequency\n",
    "    - scales frequency to match what a human hears (can identify small changes at lower frequencies)\n",
    "- MFCC gives representation of phonemes being produced through shape of vocal tract\n",
    "- Algorithm:\n",
    "    1. divide signals into smaller frames (20-40ms) as samples they constantly change\n",
    "    2. Identify frequencies in each frame\n",
    "    3. Use Mel filterbank to find sum of energy in different frequency bands\n",
    "    4. Take log (as perceived volume scales logarithmically)\n",
    "    5. Compute Discrete Cosing Transform (DCT)\n",
    "        - filterbanks overlapping, so energies are correlated - DCT \"decorrelates energies\", so diagonal covariance matrices can be used to model features\n",
    "    6. can keep only lower 12 DCT coefficinets as higher DCT coefficients represent fast changes in filterbank energies - can worsen performance?\n",
    "    \n",
    "    \n",
    "http://www.practicalcryptography.com/miscellaneous/machine-learning/guide-mel-frequency-cepstral-coefficients-mfccs/\n"
   ]
  },
  {
   "cell_type": "code",
   "execution_count": 7,
   "metadata": {},
   "outputs": [],
   "source": [
    "# feature extraction\n",
    "path  = \"D:/Datasets/genres/\"\n",
    "f = open(\"feat.dat\",'wb')\n",
    "\n",
    "genre=0\n",
    "for fold in os.listdir(path):\n",
    "    genre+=1\n",
    "    if genre==11:\n",
    "        break\n",
    "    for file in os.listdir(path+fold):\n",
    "        (rate, sig) = wavfile.read(path+fold+\"/\"+file) # returns sample rate and data (sig)\n",
    "        mfcc_feat = mfcc(sig, rate, winlen=0.02, appendEnergy = False)\n",
    "        covariance = np.cov(np.matrix.transpose(mfcc_feat))\n",
    "        mean_matrix = mfcc_feat.mean(0) # mean along column\n",
    "        feature = (mean_matrix, covariance, genre)\n",
    "        pickle.dump(feature, f)\n",
    "\n",
    "f.close()"
   ]
  },
  {
   "cell_type": "code",
   "execution_count": 16,
   "metadata": {},
   "outputs": [],
   "source": [
    "# loading data - could try converting ot pandas Dataframe instead\n",
    "dataset = []\n",
    "train = []\n",
    "test = []\n",
    "with open(\"feat.dat\", 'rb') as f:\n",
    "    while True:\n",
    "        try:\n",
    "            dataset.append(pickle.load(f))\n",
    "        except EOFError:\n",
    "            f.close()\n",
    "            break\n",
    "    \n",
    "    for x in range(len(dataset)):\n",
    "        if random.random() < 0.66:\n",
    "            train.append(dataset[x])\n",
    "        else:\n",
    "            test.append(dataset[x])"
   ]
  },
  {
   "cell_type": "code",
   "execution_count": 18,
   "metadata": {},
   "outputs": [
    {
     "data": {
      "text/plain": [
       "333"
      ]
     },
     "execution_count": 18,
     "metadata": {},
     "output_type": "execute_result"
    }
   ],
   "source": [
    "len(test)"
   ]
  },
  {
   "cell_type": "code",
   "execution_count": 5,
   "metadata": {},
   "outputs": [
    {
     "data": {
      "text/plain": [
       "<matplotlib.collections.PathCollection at 0x1efed6a7d60>"
      ]
     },
     "execution_count": 5,
     "metadata": {},
     "output_type": "execute_result"
    },
    {
     "data": {
      "image/png": "[encoded data removed]",
      "text/plain": [
       "<Figure size 432x288 with 1 Axes>"
      ]
     },
     "metadata": {
      "needs_background": "light"
     },
     "output_type": "display_data"
    }
   ],
   "source": [
    "x = range(len(m))\n",
    "plt.scatter(x, m)"
   ]
  },
  {
   "cell_type": "code",
   "execution_count": 6,
   "metadata": {},
   "outputs": [
    {
     "data": {
      "text/plain": [
       "<AxesSubplot:>"
      ]
     },
     "execution_count": 6,
     "metadata": {},
     "output_type": "execute_result"
    },
    {
     "data": {
      "image/png": "[encoded data removed]",
      "text/plain": [
       "<Figure size 432x288 with 2 Axes>"
      ]
     },
     "metadata": {
      "needs_background": "light"
     },
     "output_type": "display_data"
    }
   ],
   "source": [
    "sns.heatmap(c)"
   ]
  },
  {
   "cell_type": "markdown",
   "metadata": {},
   "source": [
    "**Implementing KNN Model**"
   ]
  },
  {
   "cell_type": "code",
   "execution_count": 30,
   "metadata": {},
   "outputs": [],
   "source": [
    "# get distance between examples\n",
    "def distance (inst1, inst2, k):\n",
    "    distance = 0\n",
    "    mm1 = inst1[0]\n",
    "    cm1 = inst1[1]\n",
    "    mm2 = inst2[0]\n",
    "    cm2 = inst2[1]\n",
    "    distance = np.trace(np.dot(np.linalg.inv(cm2), cm1)) # \n",
    "    distance += np.dot(np.dot((mm2-mm1).transpose(), np.linalg.inv(cm2)), mm2-mm1)\n",
    "    distance += np.log(np.linalg.det(cm2)) - np.log(np.linalg.det(cm1))\n",
    "    distance -= k\n",
    "    return distance\n",
    "    \n",
    "\n",
    "# get distance between feature vector and find neighbors\n",
    "def getNeighbours(trainingSet, instance, k):\n",
    "    distances = []\n",
    "    for x in range (len(trainingSet)):\n",
    "        dist = distance(trainingSet[x], instance, k) + distance(instance, trainingSet[x], k)\n",
    "        distances.append((trainingSet[x][2], dist)) # distance with label\n",
    "    distances.sort(key=operator.itemgetter(1)) # sort by distance (index 1 in tuple)\n",
    "    neighbours = []\n",
    "    for x in range(k): \n",
    "        neighbours.append(distances[x][0]) \n",
    "    return neighbours # nearest k instances\n",
    "\n",
    "def nearestClass(neighbours):\n",
    "    classVote = {}\n",
    "    for x in range(len(neighbours)):\n",
    "        response = neighbours[x] # distance\n",
    "        if response in classVote:\n",
    "            classVote[response]+=1\n",
    "        else:\n",
    "            classVote[response]=1\n",
    "    sorter = sorted(classVote.items(), key = operator.itemgetter(1), reverse=True)\n",
    "    return sorter[0][0]\n",
    "\n",
    "# model evaluation\n",
    "def getAccuracy(testSet, predictions):\n",
    "    correct = 0\n",
    "    for x in range(len(testSet)):\n",
    "        if testSet[x][-1]==predictions[x]:\n",
    "            correct+=1\n",
    "    return 1.0*correct/len(testSet) # fraction correct\n",
    "        \n",
    "        \n",
    "        "
   ]
  },
  {
   "cell_type": "code",
   "execution_count": 37,
   "metadata": {},
   "outputs": [
    {
     "name": "stdout",
     "output_type": "stream",
     "text": [
      "0.6336336336336337\n",
      "0.6336336336336337\n",
      "0.6516516516516516\n",
      "0.6816816816816816\n",
      "0.6876876876876877\n",
      "0.6906906906906907\n",
      "0.6906906906906907\n",
      "0.6846846846846847\n"
     ]
    }
   ],
   "source": [
    "# make prediction and get accuracies for K values from 1-8\n",
    "accuracies = []\n",
    "for k in range(1,9):\n",
    "    predictions = []\n",
    "    for x in range(len(test)):\n",
    "        predictions.append(nearestClass(getNeighbours(train, test[x], k)))\n",
    "\n",
    "    accuracy = getAccuracy(test, predictions)\n",
    "    accuracies.append(accuracy)\n",
    "    print(accuracy)"
   ]
  },
  {
   "cell_type": "markdown",
   "metadata": {},
   "source": [
    "Model evaluation\n",
    "\n",
    "- K nearest neighbour model accuracywith K=5 gets an accuracy of 0.688\n",
    "\n",
    "<table>\n",
    "    <tr>\n",
    "        <th>K value</th>\n",
    "        <th>Accuracy</th>\n",
    "    </tr>\n",
    "    <tr><td>1</td><td>0.6336</td></tr>\n",
    "    <tr><td>2</td><td>0.6336</td></tr>\n",
    "    <tr><td>3</td><td>0.6517</td></tr>\n",
    "    <tr><td>4</td><td>0.6817</td></tr>\n",
    "    <tr><td>5</td><td>0.6877</td></tr>\n",
    "    <tr><td>6</td><td>0.6907</td></tr>\n",
    "    <tr><td>7</td><td>0.6907</td></tr>\n",
    "    <tr><td>8</td><td>0.6847</td></tr>\n",
    "</table>\n",
    "\n",
    "Accuracy seems to peak at around K=6 or 7 and then falls"
   ]
  },
  {
   "cell_type": "code",
   "execution_count": 53,
   "metadata": {},
   "outputs": [
    {
     "data": {
      "text/plain": [
       "<AxesSubplot:xlabel='K', ylabel='Accuracy'>"
      ]
     },
     "execution_count": 53,
     "metadata": {},
     "output_type": "execute_result"
    },
    {
     "data": {
      "image/png": "[encoded data removed]",
      "text/plain": [
       "<Figure size 432x288 with 1 Axes>"
      ]
     },
     "metadata": {
      "needs_background": "light"
     },
     "output_type": "display_data"
    }
   ],
   "source": [
    "# plot of accuracies\n",
    "acc = pd.DataFrame(accuracies)\n",
    "acc.columns = [\"Accuracy\"]\n",
    "acc[\"K\"] = list(range(1,9))\n",
    "\n",
    "sns.barplot(x=\"K\", y=\"Accuracy\", data=acc)"
   ]
  },
  {
   "cell_type": "code",
   "execution_count": 51,
   "metadata": {},
   "outputs": [],
   "source": [
    "acc.columns = [\"Accuracy\"]\n",
    "acc[\"K\"] = list(range(1,9))"
   ]
  },
  {
   "cell_type": "code",
   "execution_count": 52,
   "metadata": {},
   "outputs": [
    {
     "data": {
      "text/html": [
       "<div>\n",
       "<style scoped>\n",
       "    .dataframe tbody tr th:only-of-type {\n",
       "        vertical-align: middle;\n",
       "    }\n",
       "\n",
       "    .dataframe tbody tr th {\n",
       "        vertical-align: top;\n",
       "    }\n",
       "\n",
       "    .dataframe thead th {\n",
       "        text-align: right;\n",
       "    }\n",
       "</style>\n",
       "<table border=\"1\" class=\"dataframe\">\n",
       "  <thead>\n",
       "    <tr style=\"text-align: right;\">\n",
       "      <th></th>\n",
       "      <th>Accuracy</th>\n",
       "      <th>K</th>\n",
       "    </tr>\n",
       "  </thead>\n",
       "  <tbody>\n",
       "    <tr>\n",
       "      <th>0</th>\n",
       "      <td>0.633634</td>\n",
       "      <td>1</td>\n",
       "    </tr>\n",
       "    <tr>\n",
       "      <th>1</th>\n",
       "      <td>0.633634</td>\n",
       "      <td>2</td>\n",
       "    </tr>\n",
       "    <tr>\n",
       "      <th>2</th>\n",
       "      <td>0.651652</td>\n",
       "      <td>3</td>\n",
       "    </tr>\n",
       "    <tr>\n",
       "      <th>3</th>\n",
       "      <td>0.681682</td>\n",
       "      <td>4</td>\n",
       "    </tr>\n",
       "    <tr>\n",
       "      <th>4</th>\n",
       "      <td>0.687688</td>\n",
       "      <td>5</td>\n",
       "    </tr>\n",
       "    <tr>\n",
       "      <th>5</th>\n",
       "      <td>0.690691</td>\n",
       "      <td>6</td>\n",
       "    </tr>\n",
       "    <tr>\n",
       "      <th>6</th>\n",
       "      <td>0.690691</td>\n",
       "      <td>7</td>\n",
       "    </tr>\n",
       "    <tr>\n",
       "      <th>7</th>\n",
       "      <td>0.684685</td>\n",
       "      <td>8</td>\n",
       "    </tr>\n",
       "  </tbody>\n",
       "</table>\n",
       "</div>"
      ],
      "text/plain": [
       "   Accuracy  K\n",
       "0  0.633634  1\n",
       "1  0.633634  2\n",
       "2  0.651652  3\n",
       "3  0.681682  4\n",
       "4  0.687688  5\n",
       "5  0.690691  6\n",
       "6  0.690691  7\n",
       "7  0.684685  8"
      ]
     },
     "execution_count": 52,
     "metadata": {},
     "output_type": "execute_result"
    }
   ],
   "source": [
    "acc"
   ]
  },
  {
   "cell_type": "code",
   "execution_count": null,
   "metadata": {},
   "outputs": [],
   "source": []
  }
 ],
 "metadata": {
  "kernelspec": {
   "display_name": "Python 3",
   "language": "python",
   "name": "python3"
  },
  "language_info": {
   "codemirror_mode": {
    "name": "ipython",
    "version": 3
   },
   "file_extension": ".py",
   "mimetype": "text/x-python",
   "name": "python",
   "nbconvert_exporter": "python",
   "pygments_lexer": "ipython3",
   "version": "3.8.2"
  }
 },
 "nbformat": 4,
 "nbformat_minor": 4
}
